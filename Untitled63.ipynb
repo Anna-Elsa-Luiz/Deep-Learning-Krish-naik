{
  "cells": [
    {
      "cell_type": "code",
      "execution_count": 1,
      "metadata": {
        "colab": {
          "base_uri": "https://localhost:8080/"
        },
        "id": "KMQO-lpC6lgI",
        "outputId": "827b8b09-d838-4a44-d3e5-3b7a4ba63413"
      },
      "outputs": [
        {
          "name": "stdout",
          "output_type": "stream",
          "text": [
            "Collecting tensorflow-gpu\n",
            "  Downloading tensorflow_gpu-2.8.0-cp37-cp37m-manylinux2010_x86_64.whl (497.5 MB)\n",
            "\u001b[K     |████████████████████████████████| 497.5 MB 24 kB/s \n",
            "\u001b[?25hRequirement already satisfied: tensorflow-io-gcs-filesystem>=0.23.1 in /usr/local/lib/python3.7/dist-packages (from tensorflow-gpu) (0.24.0)\n",
            "Requirement already satisfied: flatbuffers>=1.12 in /usr/local/lib/python3.7/dist-packages (from tensorflow-gpu) (2.0)\n",
            "Requirement already satisfied: google-pasta>=0.1.1 in /usr/local/lib/python3.7/dist-packages (from tensorflow-gpu) (0.2.0)\n",
            "Requirement already satisfied: absl-py>=0.4.0 in /usr/local/lib/python3.7/dist-packages (from tensorflow-gpu) (1.0.0)\n",
            "Requirement already satisfied: wrapt>=1.11.0 in /usr/local/lib/python3.7/dist-packages (from tensorflow-gpu) (1.14.0)\n",
            "Requirement already satisfied: termcolor>=1.1.0 in /usr/local/lib/python3.7/dist-packages (from tensorflow-gpu) (1.1.0)\n",
            "Requirement already satisfied: grpcio<2.0,>=1.24.3 in /usr/local/lib/python3.7/dist-packages (from tensorflow-gpu) (1.44.0)\n",
            "Requirement already satisfied: numpy>=1.20 in /usr/local/lib/python3.7/dist-packages (from tensorflow-gpu) (1.21.5)\n",
            "Requirement already satisfied: h5py>=2.9.0 in /usr/local/lib/python3.7/dist-packages (from tensorflow-gpu) (3.1.0)\n",
            "Requirement already satisfied: typing-extensions>=3.6.6 in /usr/local/lib/python3.7/dist-packages (from tensorflow-gpu) (3.10.0.2)\n",
            "Collecting tf-estimator-nightly==2.8.0.dev2021122109\n",
            "  Downloading tf_estimator_nightly-2.8.0.dev2021122109-py2.py3-none-any.whl (462 kB)\n",
            "\u001b[K     |████████████████████████████████| 462 kB 39.3 MB/s \n",
            "\u001b[?25hRequirement already satisfied: six>=1.12.0 in /usr/local/lib/python3.7/dist-packages (from tensorflow-gpu) (1.15.0)\n",
            "Requirement already satisfied: keras-preprocessing>=1.1.1 in /usr/local/lib/python3.7/dist-packages (from tensorflow-gpu) (1.1.2)\n",
            "Requirement already satisfied: protobuf>=3.9.2 in /usr/local/lib/python3.7/dist-packages (from tensorflow-gpu) (3.17.3)\n",
            "Requirement already satisfied: tensorboard<2.9,>=2.8 in /usr/local/lib/python3.7/dist-packages (from tensorflow-gpu) (2.8.0)\n",
            "Requirement already satisfied: astunparse>=1.6.0 in /usr/local/lib/python3.7/dist-packages (from tensorflow-gpu) (1.6.3)\n",
            "Requirement already satisfied: libclang>=9.0.1 in /usr/local/lib/python3.7/dist-packages (from tensorflow-gpu) (13.0.0)\n",
            "Requirement already satisfied: opt-einsum>=2.3.2 in /usr/local/lib/python3.7/dist-packages (from tensorflow-gpu) (3.3.0)\n",
            "Requirement already satisfied: gast>=0.2.1 in /usr/local/lib/python3.7/dist-packages (from tensorflow-gpu) (0.5.3)\n",
            "Requirement already satisfied: setuptools in /usr/local/lib/python3.7/dist-packages (from tensorflow-gpu) (57.4.0)\n",
            "Requirement already satisfied: keras<2.9,>=2.8.0rc0 in /usr/local/lib/python3.7/dist-packages (from tensorflow-gpu) (2.8.0)\n",
            "Requirement already satisfied: wheel<1.0,>=0.23.0 in /usr/local/lib/python3.7/dist-packages (from astunparse>=1.6.0->tensorflow-gpu) (0.37.1)\n",
            "Requirement already satisfied: cached-property in /usr/local/lib/python3.7/dist-packages (from h5py>=2.9.0->tensorflow-gpu) (1.5.2)\n",
            "Requirement already satisfied: google-auth<3,>=1.6.3 in /usr/local/lib/python3.7/dist-packages (from tensorboard<2.9,>=2.8->tensorflow-gpu) (1.35.0)\n",
            "Requirement already satisfied: markdown>=2.6.8 in /usr/local/lib/python3.7/dist-packages (from tensorboard<2.9,>=2.8->tensorflow-gpu) (3.3.6)\n",
            "Requirement already satisfied: tensorboard-plugin-wit>=1.6.0 in /usr/local/lib/python3.7/dist-packages (from tensorboard<2.9,>=2.8->tensorflow-gpu) (1.8.1)\n",
            "Requirement already satisfied: requests<3,>=2.21.0 in /usr/local/lib/python3.7/dist-packages (from tensorboard<2.9,>=2.8->tensorflow-gpu) (2.23.0)\n",
            "Requirement already satisfied: werkzeug>=0.11.15 in /usr/local/lib/python3.7/dist-packages (from tensorboard<2.9,>=2.8->tensorflow-gpu) (1.0.1)\n",
            "Requirement already satisfied: tensorboard-data-server<0.7.0,>=0.6.0 in /usr/local/lib/python3.7/dist-packages (from tensorboard<2.9,>=2.8->tensorflow-gpu) (0.6.1)\n",
            "Requirement already satisfied: google-auth-oauthlib<0.5,>=0.4.1 in /usr/local/lib/python3.7/dist-packages (from tensorboard<2.9,>=2.8->tensorflow-gpu) (0.4.6)\n",
            "Requirement already satisfied: cachetools<5.0,>=2.0.0 in /usr/local/lib/python3.7/dist-packages (from google-auth<3,>=1.6.3->tensorboard<2.9,>=2.8->tensorflow-gpu) (4.2.4)\n",
            "Requirement already satisfied: pyasn1-modules>=0.2.1 in /usr/local/lib/python3.7/dist-packages (from google-auth<3,>=1.6.3->tensorboard<2.9,>=2.8->tensorflow-gpu) (0.2.8)\n",
            "Requirement already satisfied: rsa<5,>=3.1.4 in /usr/local/lib/python3.7/dist-packages (from google-auth<3,>=1.6.3->tensorboard<2.9,>=2.8->tensorflow-gpu) (4.8)\n",
            "Requirement already satisfied: requests-oauthlib>=0.7.0 in /usr/local/lib/python3.7/dist-packages (from google-auth-oauthlib<0.5,>=0.4.1->tensorboard<2.9,>=2.8->tensorflow-gpu) (1.3.1)\n",
            "Requirement already satisfied: importlib-metadata>=4.4 in /usr/local/lib/python3.7/dist-packages (from markdown>=2.6.8->tensorboard<2.9,>=2.8->tensorflow-gpu) (4.11.3)\n",
            "Requirement already satisfied: zipp>=0.5 in /usr/local/lib/python3.7/dist-packages (from importlib-metadata>=4.4->markdown>=2.6.8->tensorboard<2.9,>=2.8->tensorflow-gpu) (3.7.0)\n",
            "Requirement already satisfied: pyasn1<0.5.0,>=0.4.6 in /usr/local/lib/python3.7/dist-packages (from pyasn1-modules>=0.2.1->google-auth<3,>=1.6.3->tensorboard<2.9,>=2.8->tensorflow-gpu) (0.4.8)\n",
            "Requirement already satisfied: certifi>=2017.4.17 in /usr/local/lib/python3.7/dist-packages (from requests<3,>=2.21.0->tensorboard<2.9,>=2.8->tensorflow-gpu) (2021.10.8)\n",
            "Requirement already satisfied: chardet<4,>=3.0.2 in /usr/local/lib/python3.7/dist-packages (from requests<3,>=2.21.0->tensorboard<2.9,>=2.8->tensorflow-gpu) (3.0.4)\n",
            "Requirement already satisfied: urllib3!=1.25.0,!=1.25.1,<1.26,>=1.21.1 in /usr/local/lib/python3.7/dist-packages (from requests<3,>=2.21.0->tensorboard<2.9,>=2.8->tensorflow-gpu) (1.24.3)\n",
            "Requirement already satisfied: idna<3,>=2.5 in /usr/local/lib/python3.7/dist-packages (from requests<3,>=2.21.0->tensorboard<2.9,>=2.8->tensorflow-gpu) (2.10)\n",
            "Requirement already satisfied: oauthlib>=3.0.0 in /usr/local/lib/python3.7/dist-packages (from requests-oauthlib>=0.7.0->google-auth-oauthlib<0.5,>=0.4.1->tensorboard<2.9,>=2.8->tensorflow-gpu) (3.2.0)\n",
            "Installing collected packages: tf-estimator-nightly, tensorflow-gpu\n",
            "Successfully installed tensorflow-gpu-2.8.0 tf-estimator-nightly-2.8.0.dev2021122109\n"
          ]
        }
      ],
      "source": [
        "!pip install tensorflow-gpu\n"
      ]
    },
    {
      "cell_type": "code",
      "execution_count": 1,
      "metadata": {
        "id": "D2IliGyI62B0"
      },
      "outputs": [
        {
          "name": "stdout",
          "output_type": "stream",
          "text": [
            "WARNING:tensorflow:From C:\\Users\\hp\\AppData\\Roaming\\Python\\Python311\\site-packages\\keras\\src\\losses.py:2976: The name tf.losses.sparse_softmax_cross_entropy is deprecated. Please use tf.compat.v1.losses.sparse_softmax_cross_entropy instead.\n",
            "\n"
          ]
        }
      ],
      "source": [
        "import tensorflow as tf"
      ]
    },
    {
      "cell_type": "code",
      "execution_count": 2,
      "metadata": {
        "colab": {
          "base_uri": "https://localhost:8080/"
        },
        "id": "4_fyxUHb7GuH",
        "outputId": "2c8a495d-cff8-49f1-b9c2-fa63165b0043"
      },
      "outputs": [
        {
          "name": "stdout",
          "output_type": "stream",
          "text": [
            "2.15.0\n"
          ]
        }
      ],
      "source": [
        "print(tf.__version__)"
      ]
    },
    {
      "cell_type": "code",
      "execution_count": 3,
      "metadata": {
        "id": "LLvV2K-o7KAp"
      },
      "outputs": [],
      "source": [
        "# Importing the libraries\n",
        "import numpy as np\n",
        "import matplotlib.pyplot as plt\n",
        "import pandas as pd"
      ]
    },
    {
      "cell_type": "code",
      "execution_count": 4,
      "metadata": {
        "id": "gHRHobkK7Sxn"
      },
      "outputs": [],
      "source": [
        "# Importing the dataset\n",
        "dataset = pd.read_csv('Churn_Modelling.csv')\n",
        "X = dataset.iloc[:, 3:13]\n",
        "y = dataset.iloc[:, 13]"
      ]
    },
    {
      "cell_type": "code",
      "execution_count": 5,
      "metadata": {
        "id": "T2yS0VL67Ufn"
      },
      "outputs": [],
      "source": [
        "#Create dummy variables\n",
        "geography=pd.get_dummies(X[\"Geography\"],drop_first=True)\n",
        "gender=pd.get_dummies(X['Gender'],drop_first=True)"
      ]
    },
    {
      "cell_type": "code",
      "execution_count": 6,
      "metadata": {
        "id": "Co2rxaFR7Wgo"
      },
      "outputs": [],
      "source": [
        "## Concatenate the Data Frames\n",
        "\n",
        "X=pd.concat([X,geography,gender],axis=1)\n",
        "\n",
        "## Drop Unnecessary columns\n",
        "X=X.drop(['Geography','Gender'],axis=1)\n",
        "\n",
        "# Splitting the dataset into the Training set and Test set\n",
        "from sklearn.model_selection import train_test_split\n",
        "X_train, X_test, y_train, y_test = train_test_split(X, y, test_size = 0.2, random_state = 0)\n"
      ]
    },
    {
      "cell_type": "code",
      "execution_count": 7,
      "metadata": {
        "id": "GNZrZXy37ZLs"
      },
      "outputs": [],
      "source": [
        "# Feature Scaling\n",
        "from sklearn.preprocessing import StandardScaler\n",
        "sc = StandardScaler()\n",
        "X_train = sc.fit_transform(X_train)\n",
        "X_test = sc.transform(X_test)\n"
      ]
    },
    {
      "cell_type": "code",
      "execution_count": 9,
      "metadata": {
        "id": "uwN3bgie7bvT"
      },
      "outputs": [],
      "source": [
        "# Part 2 - Now let's make the ANN!"
      ]
    },
    {
      "cell_type": "code",
      "execution_count": 8,
      "metadata": {
        "id": "rL_a7vWu7dj1"
      },
      "outputs": [],
      "source": [
        "from tensorflow.keras.models import Sequential\n",
        "from tensorflow.keras.layers import Dense\n",
        "from tensorflow.keras.layers import LeakyReLU,PReLU,ELU\n",
        "from tensorflow.keras.layers import Dropout\n"
      ]
    },
    {
      "cell_type": "code",
      "execution_count": 9,
      "metadata": {
        "id": "VDJwvrbZ7kj4"
      },
      "outputs": [
        {
          "name": "stdout",
          "output_type": "stream",
          "text": [
            "WARNING:tensorflow:From C:\\Users\\hp\\AppData\\Roaming\\Python\\Python311\\site-packages\\keras\\src\\backend.py:873: The name tf.get_default_graph is deprecated. Please use tf.compat.v1.get_default_graph instead.\n",
            "\n"
          ]
        }
      ],
      "source": [
        "# Initialising the ANN\n",
        "classifier = Sequential()"
      ]
    },
    {
      "cell_type": "code",
      "execution_count": 10,
      "metadata": {
        "id": "RSZQrU-g7z4N"
      },
      "outputs": [],
      "source": [
        "# Adding the input layer and the first hidden layer\n",
        "classifier.add(Dense(units=11,activation='relu'))"
      ]
    },
    {
      "cell_type": "code",
      "execution_count": 11,
      "metadata": {
        "id": "byszZMvw8RcQ"
      },
      "outputs": [],
      "source": [
        "# Adding the input layer and the first hidden layer\n",
        "classifier.add(Dense(units=6,activation='relu'))"
      ]
    },
    {
      "cell_type": "code",
      "execution_count": 12,
      "metadata": {
        "id": "Mk2slmAX8XUI"
      },
      "outputs": [],
      "source": [
        "# Adding the input layer and the first hidden layer\n",
        "classifier.add(Dense(units=1,activation='relu'))"
      ]
    },
    {
      "cell_type": "code",
      "execution_count": 13,
      "metadata": {
        "id": "F2udThHo8cFt"
      },
      "outputs": [
        {
          "name": "stdout",
          "output_type": "stream",
          "text": [
            "WARNING:tensorflow:From C:\\Users\\hp\\AppData\\Roaming\\Python\\Python311\\site-packages\\keras\\src\\optimizers\\__init__.py:309: The name tf.train.Optimizer is deprecated. Please use tf.compat.v1.train.Optimizer instead.\n",
            "\n"
          ]
        }
      ],
      "source": [
        "classifier.compile(optimizer='adam',loss='binary_crossentropy',metrics=['accuracy'])"
      ]
    },
    {
      "cell_type": "code",
      "execution_count": 22,
      "metadata": {
        "colab": {
          "base_uri": "https://localhost:8080/"
        },
        "id": "3qairJAs8fIc",
        "outputId": "0730a4ec-193f-41ae-daff-4ccc7673b142"
      },
      "outputs": [
        {
          "name": "stdout",
          "output_type": "stream",
          "text": [
            "Epoch 1/50\n",
            "536/536 [==============================] - 2s 5ms/step - loss: 0.5597 - accuracy: 0.7970 - val_loss: 0.5563 - val_accuracy: 0.7974\n",
            "Epoch 2/50\n",
            "536/536 [==============================] - 2s 4ms/step - loss: 0.5125 - accuracy: 0.8022 - val_loss: 0.5131 - val_accuracy: 0.7997\n",
            "Epoch 3/50\n",
            "536/536 [==============================] - 3s 6ms/step - loss: 0.4929 - accuracy: 0.8057 - val_loss: 0.4987 - val_accuracy: 0.8020\n",
            "Epoch 4/50\n",
            "536/536 [==============================] - 2s 4ms/step - loss: 0.4816 - accuracy: 0.8100 - val_loss: 0.4883 - val_accuracy: 0.8080\n",
            "Epoch 5/50\n",
            "536/536 [==============================] - 2s 4ms/step - loss: 0.4718 - accuracy: 0.8125 - val_loss: 0.4482 - val_accuracy: 0.8046\n",
            "Epoch 6/50\n",
            "536/536 [==============================] - 2s 4ms/step - loss: 0.4447 - accuracy: 0.8127 - val_loss: 0.4484 - val_accuracy: 0.8092\n",
            "Epoch 7/50\n",
            "536/536 [==============================] - 3s 5ms/step - loss: 0.4299 - accuracy: 0.8169 - val_loss: 0.4466 - val_accuracy: 0.8084\n",
            "Epoch 8/50\n",
            "536/536 [==============================] - 2s 5ms/step - loss: 0.4388 - accuracy: 0.8128 - val_loss: 0.4603 - val_accuracy: 0.8076\n",
            "Epoch 9/50\n",
            "536/536 [==============================] - 2s 4ms/step - loss: 0.4248 - accuracy: 0.8197 - val_loss: 0.4468 - val_accuracy: 0.8080\n",
            "Epoch 10/50\n",
            "536/536 [==============================] - 2s 4ms/step - loss: 0.4213 - accuracy: 0.8283 - val_loss: 0.4314 - val_accuracy: 0.8107\n",
            "Epoch 11/50\n",
            "536/536 [==============================] - 2s 4ms/step - loss: 0.4081 - accuracy: 0.8324 - val_loss: 0.4253 - val_accuracy: 0.8179\n",
            "Epoch 12/50\n",
            "536/536 [==============================] - 2s 4ms/step - loss: 0.4035 - accuracy: 0.8304 - val_loss: 0.4237 - val_accuracy: 0.8236\n",
            "Epoch 13/50\n",
            "536/536 [==============================] - 2s 4ms/step - loss: 0.3912 - accuracy: 0.8388 - val_loss: 0.4200 - val_accuracy: 0.8258\n",
            "Epoch 14/50\n",
            "536/536 [==============================] - 2s 5ms/step - loss: 0.3858 - accuracy: 0.8418 - val_loss: 0.4319 - val_accuracy: 0.8277\n",
            "Epoch 15/50\n",
            "536/536 [==============================] - 3s 5ms/step - loss: 0.3804 - accuracy: 0.8425 - val_loss: 0.4199 - val_accuracy: 0.8289\n",
            "Epoch 16/50\n",
            "536/536 [==============================] - 2s 4ms/step - loss: 0.3759 - accuracy: 0.8442 - val_loss: 0.3901 - val_accuracy: 0.8326\n",
            "Epoch 17/50\n",
            "536/536 [==============================] - 3s 5ms/step - loss: 0.3717 - accuracy: 0.8481 - val_loss: 0.4056 - val_accuracy: 0.8319\n",
            "Epoch 18/50\n",
            "536/536 [==============================] - 2s 4ms/step - loss: 0.3721 - accuracy: 0.8477 - val_loss: 0.4032 - val_accuracy: 0.8349\n",
            "Epoch 19/50\n",
            "536/536 [==============================] - 1s 3ms/step - loss: 0.3726 - accuracy: 0.8466 - val_loss: 0.3961 - val_accuracy: 0.8364\n",
            "Epoch 20/50\n",
            "536/536 [==============================] - 2s 3ms/step - loss: 0.3678 - accuracy: 0.8498 - val_loss: 0.4030 - val_accuracy: 0.8368\n",
            "Epoch 21/50\n",
            "536/536 [==============================] - 1s 3ms/step - loss: 0.3695 - accuracy: 0.8498 - val_loss: 0.4010 - val_accuracy: 0.8387\n",
            "Epoch 22/50\n",
            "536/536 [==============================] - 2s 3ms/step - loss: 0.3683 - accuracy: 0.8498 - val_loss: 0.3882 - val_accuracy: 0.8395\n",
            "Epoch 23/50\n",
            "536/536 [==============================] - 1s 3ms/step - loss: 0.3642 - accuracy: 0.8455 - val_loss: 0.4100 - val_accuracy: 0.8410\n",
            "Epoch 24/50\n",
            "536/536 [==============================] - 1s 3ms/step - loss: 0.3632 - accuracy: 0.8472 - val_loss: 0.4010 - val_accuracy: 0.8406\n",
            "Epoch 25/50\n",
            "536/536 [==============================] - 1s 3ms/step - loss: 0.3621 - accuracy: 0.8500 - val_loss: 0.4081 - val_accuracy: 0.8417\n",
            "Epoch 26/50\n",
            "536/536 [==============================] - 2s 3ms/step - loss: 0.3599 - accuracy: 0.8524 - val_loss: 0.4136 - val_accuracy: 0.8444\n",
            "Epoch 27/50\n",
            "536/536 [==============================] - 1s 3ms/step - loss: 0.3617 - accuracy: 0.8520 - val_loss: 0.4347 - val_accuracy: 0.8398\n",
            "Epoch 28/50\n",
            "536/536 [==============================] - 1s 2ms/step - loss: 0.3681 - accuracy: 0.8517 - val_loss: 0.4385 - val_accuracy: 0.8413\n",
            "Epoch 29/50\n",
            "536/536 [==============================] - 2s 3ms/step - loss: 0.3682 - accuracy: 0.8546 - val_loss: 0.3996 - val_accuracy: 0.8425\n",
            "Epoch 30/50\n",
            "536/536 [==============================] - 1s 3ms/step - loss: 0.3674 - accuracy: 0.8548 - val_loss: 0.4219 - val_accuracy: 0.8451\n",
            "Epoch 31/50\n",
            "536/536 [==============================] - 2s 3ms/step - loss: 0.3673 - accuracy: 0.8533 - val_loss: 0.4320 - val_accuracy: 0.8425\n",
            "Epoch 32/50\n",
            "536/536 [==============================] - 2s 3ms/step - loss: 0.3603 - accuracy: 0.8545 - val_loss: 0.4138 - val_accuracy: 0.8466\n",
            "Epoch 33/50\n",
            "536/536 [==============================] - 3s 5ms/step - loss: 0.3560 - accuracy: 0.8556 - val_loss: 0.4125 - val_accuracy: 0.8459\n",
            "Epoch 34/50\n",
            "536/536 [==============================] - 3s 5ms/step - loss: 0.3629 - accuracy: 0.8559 - val_loss: 0.4274 - val_accuracy: 0.8410\n",
            "Epoch 35/50\n",
            "536/536 [==============================] - 3s 5ms/step - loss: 0.3542 - accuracy: 0.8539 - val_loss: 0.4125 - val_accuracy: 0.8429\n",
            "Epoch 36/50\n",
            "536/536 [==============================] - 3s 5ms/step - loss: 0.3537 - accuracy: 0.8558 - val_loss: 0.4278 - val_accuracy: 0.8459\n",
            "Epoch 37/50\n",
            "536/536 [==============================] - 3s 5ms/step - loss: 0.3545 - accuracy: 0.8569 - val_loss: 0.4347 - val_accuracy: 0.8470\n",
            "Epoch 38/50\n",
            "536/536 [==============================] - 3s 6ms/step - loss: 0.3547 - accuracy: 0.8565 - val_loss: 0.4205 - val_accuracy: 0.8466\n",
            "Epoch 39/50\n",
            "536/536 [==============================] - 2s 4ms/step - loss: 0.3552 - accuracy: 0.8569 - val_loss: 0.4494 - val_accuracy: 0.8451\n",
            "Epoch 40/50\n",
            "536/536 [==============================] - 3s 5ms/step - loss: 0.3573 - accuracy: 0.8580 - val_loss: 0.4412 - val_accuracy: 0.8497\n",
            "Epoch 41/50\n",
            "536/536 [==============================] - 3s 5ms/step - loss: 0.3620 - accuracy: 0.8582 - val_loss: 0.4336 - val_accuracy: 0.8474\n",
            "Epoch 42/50\n",
            "536/536 [==============================] - 2s 3ms/step - loss: 0.3557 - accuracy: 0.8571 - val_loss: 0.4443 - val_accuracy: 0.8504\n",
            "Epoch 43/50\n",
            "536/536 [==============================] - 1s 3ms/step - loss: 0.3514 - accuracy: 0.8569 - val_loss: 0.4362 - val_accuracy: 0.8512\n",
            "Epoch 44/50\n",
            "536/536 [==============================] - 2s 3ms/step - loss: 0.3493 - accuracy: 0.8559 - val_loss: 0.4511 - val_accuracy: 0.8470\n",
            "Epoch 45/50\n",
            "536/536 [==============================] - 1s 2ms/step - loss: 0.3498 - accuracy: 0.8615 - val_loss: 0.4405 - val_accuracy: 0.8451\n",
            "Epoch 46/50\n",
            "536/536 [==============================] - 1s 3ms/step - loss: 0.3502 - accuracy: 0.8569 - val_loss: 0.4295 - val_accuracy: 0.8501\n",
            "Epoch 47/50\n",
            "536/536 [==============================] - 2s 3ms/step - loss: 0.3498 - accuracy: 0.8574 - val_loss: 0.4436 - val_accuracy: 0.8497\n",
            "Epoch 48/50\n",
            "536/536 [==============================] - 2s 3ms/step - loss: 0.3505 - accuracy: 0.8580 - val_loss: 0.4218 - val_accuracy: 0.8455\n",
            "Epoch 49/50\n",
            "536/536 [==============================] - 2s 3ms/step - loss: 0.3556 - accuracy: 0.8587 - val_loss: 0.4294 - val_accuracy: 0.8470\n",
            "Epoch 50/50\n",
            "536/536 [==============================] - 1s 3ms/step - loss: 0.3440 - accuracy: 0.8587 - val_loss: 0.4300 - val_accuracy: 0.8455\n"
          ]
        }
      ],
      "source": [
        "model_history=classifier.fit(X_train,y_train,validation_split=0.33,batch_size=10,epochs=50)"
      ]
    },
    {
      "cell_type": "code",
      "execution_count": 14,
      "metadata": {},
      "outputs": [],
      "source": [
        "early_stopping = tf.keras.callbacks.EarlyStopping(monitor='val_loss',min_delta=0.0001,patience=20,verbose=1,mode=\"auto\",baseline=None,restore_best_weights=False)"
      ]
    },
    {
      "cell_type": "code",
      "execution_count": 15,
      "metadata": {},
      "outputs": [
        {
          "name": "stdout",
          "output_type": "stream",
          "text": [
            "Epoch 1/1000\n",
            "WARNING:tensorflow:From C:\\Users\\hp\\AppData\\Roaming\\Python\\Python311\\site-packages\\keras\\src\\utils\\tf_utils.py:492: The name tf.ragged.RaggedTensorValue is deprecated. Please use tf.compat.v1.ragged.RaggedTensorValue instead.\n",
            "\n",
            "WARNING:tensorflow:From C:\\Users\\hp\\AppData\\Roaming\\Python\\Python311\\site-packages\\keras\\src\\engine\\base_layer_utils.py:384: The name tf.executing_eagerly_outside_functions is deprecated. Please use tf.compat.v1.executing_eagerly_outside_functions instead.\n",
            "\n",
            "536/536 [==============================] - 3s 3ms/step - loss: 1.6470 - accuracy: 0.7865 - val_loss: 1.1245 - val_accuracy: 0.7793\n",
            "Epoch 2/1000\n",
            "536/536 [==============================] - 1s 2ms/step - loss: 0.8502 - accuracy: 0.7722 - val_loss: 0.6746 - val_accuracy: 0.7781\n",
            "Epoch 3/1000\n",
            "536/536 [==============================] - 1s 2ms/step - loss: 0.6010 - accuracy: 0.7860 - val_loss: 0.5752 - val_accuracy: 0.7921\n",
            "Epoch 4/1000\n",
            "536/536 [==============================] - 1s 2ms/step - loss: 0.5516 - accuracy: 0.7968 - val_loss: 0.5514 - val_accuracy: 0.7959\n",
            "Epoch 5/1000\n",
            "536/536 [==============================] - 1s 3ms/step - loss: 0.5164 - accuracy: 0.7979 - val_loss: 0.5238 - val_accuracy: 0.7959\n",
            "Epoch 6/1000\n",
            "536/536 [==============================] - 1s 2ms/step - loss: 0.5013 - accuracy: 0.7975 - val_loss: 0.5122 - val_accuracy: 0.7952\n",
            "Epoch 7/1000\n",
            "536/536 [==============================] - 1s 2ms/step - loss: 0.4995 - accuracy: 0.7996 - val_loss: 0.5053 - val_accuracy: 0.7948\n",
            "Epoch 8/1000\n",
            "536/536 [==============================] - 1s 3ms/step - loss: 0.4929 - accuracy: 0.8001 - val_loss: 0.4957 - val_accuracy: 0.7982\n",
            "Epoch 9/1000\n",
            "536/536 [==============================] - 1s 2ms/step - loss: 0.4900 - accuracy: 0.8033 - val_loss: 0.5087 - val_accuracy: 0.8012\n",
            "Epoch 10/1000\n",
            "536/536 [==============================] - 1s 2ms/step - loss: 0.4836 - accuracy: 0.8074 - val_loss: 0.4787 - val_accuracy: 0.8039\n",
            "Epoch 11/1000\n",
            "536/536 [==============================] - 1s 2ms/step - loss: 0.4602 - accuracy: 0.8117 - val_loss: 0.4592 - val_accuracy: 0.8156\n",
            "Epoch 12/1000\n",
            "536/536 [==============================] - 1s 2ms/step - loss: 0.4459 - accuracy: 0.8162 - val_loss: 0.4498 - val_accuracy: 0.8183\n",
            "Epoch 13/1000\n",
            "536/536 [==============================] - 1s 2ms/step - loss: 0.4356 - accuracy: 0.8205 - val_loss: 0.4482 - val_accuracy: 0.8209\n",
            "Epoch 14/1000\n",
            "536/536 [==============================] - 1s 2ms/step - loss: 0.4303 - accuracy: 0.8222 - val_loss: 0.4418 - val_accuracy: 0.8217\n",
            "Epoch 15/1000\n",
            "536/536 [==============================] - 1s 3ms/step - loss: 0.4262 - accuracy: 0.8276 - val_loss: 0.4433 - val_accuracy: 0.8254\n",
            "Epoch 16/1000\n",
            "536/536 [==============================] - 1s 2ms/step - loss: 0.4288 - accuracy: 0.8285 - val_loss: 0.4527 - val_accuracy: 0.8220\n",
            "Epoch 17/1000\n",
            "536/536 [==============================] - 1s 2ms/step - loss: 0.4204 - accuracy: 0.8313 - val_loss: 0.4337 - val_accuracy: 0.8304\n",
            "Epoch 18/1000\n",
            "536/536 [==============================] - 1s 2ms/step - loss: 0.4077 - accuracy: 0.8349 - val_loss: 0.4229 - val_accuracy: 0.8296\n",
            "Epoch 19/1000\n",
            "536/536 [==============================] - 1s 2ms/step - loss: 0.4141 - accuracy: 0.8358 - val_loss: 0.4193 - val_accuracy: 0.8315\n",
            "Epoch 20/1000\n",
            "536/536 [==============================] - 1s 2ms/step - loss: 0.3969 - accuracy: 0.8455 - val_loss: 0.4132 - val_accuracy: 0.8368\n",
            "Epoch 21/1000\n",
            "536/536 [==============================] - 1s 2ms/step - loss: 0.3824 - accuracy: 0.8455 - val_loss: 0.4020 - val_accuracy: 0.8353\n",
            "Epoch 22/1000\n",
            "536/536 [==============================] - 1s 2ms/step - loss: 0.3755 - accuracy: 0.8446 - val_loss: 0.4100 - val_accuracy: 0.8383\n",
            "Epoch 23/1000\n",
            "536/536 [==============================] - 1s 2ms/step - loss: 0.3737 - accuracy: 0.8446 - val_loss: 0.4154 - val_accuracy: 0.8387\n",
            "Epoch 24/1000\n",
            "536/536 [==============================] - 1s 2ms/step - loss: 0.3810 - accuracy: 0.8496 - val_loss: 0.4026 - val_accuracy: 0.8417\n",
            "Epoch 25/1000\n",
            "536/536 [==============================] - 1s 2ms/step - loss: 0.3716 - accuracy: 0.8517 - val_loss: 0.3979 - val_accuracy: 0.8402\n",
            "Epoch 26/1000\n",
            "536/536 [==============================] - 1s 2ms/step - loss: 0.3755 - accuracy: 0.8530 - val_loss: 0.3949 - val_accuracy: 0.8463\n",
            "Epoch 27/1000\n",
            "536/536 [==============================] - 1s 2ms/step - loss: 0.3695 - accuracy: 0.8537 - val_loss: 0.4089 - val_accuracy: 0.8421\n",
            "Epoch 28/1000\n",
            "536/536 [==============================] - 1s 2ms/step - loss: 0.3626 - accuracy: 0.8535 - val_loss: 0.3938 - val_accuracy: 0.8459\n",
            "Epoch 29/1000\n",
            "536/536 [==============================] - 1s 3ms/step - loss: 0.3584 - accuracy: 0.8559 - val_loss: 0.4139 - val_accuracy: 0.8516\n",
            "Epoch 30/1000\n",
            "536/536 [==============================] - 1s 2ms/step - loss: 0.3583 - accuracy: 0.8543 - val_loss: 0.4089 - val_accuracy: 0.8504\n",
            "Epoch 31/1000\n",
            "536/536 [==============================] - 1s 2ms/step - loss: 0.3543 - accuracy: 0.8565 - val_loss: 0.4155 - val_accuracy: 0.8493\n",
            "Epoch 32/1000\n",
            "536/536 [==============================] - 1s 2ms/step - loss: 0.3613 - accuracy: 0.8571 - val_loss: 0.4337 - val_accuracy: 0.8512\n",
            "Epoch 33/1000\n",
            "536/536 [==============================] - 1s 2ms/step - loss: 0.3525 - accuracy: 0.8595 - val_loss: 0.4257 - val_accuracy: 0.8497\n",
            "Epoch 34/1000\n",
            "536/536 [==============================] - 1s 2ms/step - loss: 0.3598 - accuracy: 0.8587 - val_loss: 0.4209 - val_accuracy: 0.8523\n",
            "Epoch 35/1000\n",
            "536/536 [==============================] - 1s 2ms/step - loss: 0.3552 - accuracy: 0.8600 - val_loss: 0.4263 - val_accuracy: 0.8508\n",
            "Epoch 36/1000\n",
            "536/536 [==============================] - 1s 2ms/step - loss: 0.3555 - accuracy: 0.8610 - val_loss: 0.4066 - val_accuracy: 0.8554\n",
            "Epoch 37/1000\n",
            "536/536 [==============================] - 1s 2ms/step - loss: 0.3542 - accuracy: 0.8614 - val_loss: 0.4164 - val_accuracy: 0.8535\n",
            "Epoch 38/1000\n",
            "536/536 [==============================] - 1s 3ms/step - loss: 0.3531 - accuracy: 0.8628 - val_loss: 0.4304 - val_accuracy: 0.8550\n",
            "Epoch 39/1000\n",
            "536/536 [==============================] - 1s 3ms/step - loss: 0.3516 - accuracy: 0.8619 - val_loss: 0.4272 - val_accuracy: 0.8584\n",
            "Epoch 40/1000\n",
            "536/536 [==============================] - 1s 3ms/step - loss: 0.3484 - accuracy: 0.8619 - val_loss: 0.4483 - val_accuracy: 0.8569\n",
            "Epoch 41/1000\n",
            "536/536 [==============================] - 1s 2ms/step - loss: 0.3503 - accuracy: 0.8625 - val_loss: 0.4377 - val_accuracy: 0.8607\n",
            "Epoch 42/1000\n",
            "536/536 [==============================] - 1s 2ms/step - loss: 0.3492 - accuracy: 0.8627 - val_loss: 0.4385 - val_accuracy: 0.8554\n",
            "Epoch 43/1000\n",
            "536/536 [==============================] - 1s 3ms/step - loss: 0.3478 - accuracy: 0.8628 - val_loss: 0.4385 - val_accuracy: 0.8557\n",
            "Epoch 44/1000\n",
            "536/536 [==============================] - 1s 2ms/step - loss: 0.3530 - accuracy: 0.8619 - val_loss: 0.4234 - val_accuracy: 0.8554\n",
            "Epoch 45/1000\n",
            "536/536 [==============================] - 1s 2ms/step - loss: 0.3638 - accuracy: 0.8602 - val_loss: 0.4188 - val_accuracy: 0.8527\n",
            "Epoch 46/1000\n",
            "536/536 [==============================] - 1s 3ms/step - loss: 0.3417 - accuracy: 0.8612 - val_loss: 0.4118 - val_accuracy: 0.8538\n",
            "Epoch 47/1000\n",
            "536/536 [==============================] - 1s 3ms/step - loss: 0.3428 - accuracy: 0.8606 - val_loss: 0.4228 - val_accuracy: 0.8557\n",
            "Epoch 48/1000\n",
            "536/536 [==============================] - 1s 3ms/step - loss: 0.3413 - accuracy: 0.8617 - val_loss: 0.4273 - val_accuracy: 0.8554\n",
            "Epoch 48: early stopping\n"
          ]
        }
      ],
      "source": [
        "model_history =classifier.fit(X_train,y_train,validation_split=0.33,batch_size=10,epochs =1000,callbacks=early_stopping)"
      ]
    },
    {
      "cell_type": "code",
      "execution_count": 16,
      "metadata": {
        "colab": {
          "base_uri": "https://localhost:8080/"
        },
        "id": "Q9t_M4wICTTz",
        "outputId": "18fa935a-8009-407f-de61-7f6a83669624"
      },
      "outputs": [
        {
          "name": "stdout",
          "output_type": "stream",
          "text": [
            "dict_keys(['loss', 'accuracy', 'val_loss', 'val_accuracy'])\n"
          ]
        }
      ],
      "source": [
        "# list all data in history\n",
        "\n",
        "print(model_history.history.keys())"
      ]
    },
    {
      "cell_type": "code",
      "execution_count": 17,
      "metadata": {
        "colab": {
          "base_uri": "https://localhost:8080/",
          "height": 295
        },
        "id": "MMOyiwzgBlLY",
        "outputId": "aeb29600-3c1f-41aa-9e29-05acf6011ed8"
      },
      "outputs": [
        {
          "data": {
            "image/png": "[encoded data removed]",
            "text/plain": [
              "<Figure size 640x480 with 1 Axes>"
            ]
          },
          "metadata": {},
          "output_type": "display_data"
        }
      ],
      "source": [
        "\n",
        "# summarize history for accuracy\n",
        "plt.plot(model_history.history['accuracy'])\n",
        "plt.plot(model_history.history['val_accuracy'])\n",
        "plt.title('model accuracy')\n",
        "plt.ylabel('accuracy')\n",
        "plt.xlabel('epoch')\n",
        "plt.legend(['train', 'test'], loc='upper left')\n",
        "plt.show()"
      ]
    },
    {
      "cell_type": "code",
      "execution_count": 19,
      "metadata": {
        "colab": {
          "base_uri": "https://localhost:8080/",
          "height": 295
        },
        "id": "QH141RsQCEr0",
        "outputId": "4566dca0-b002-4f59-b6e8-f8654b414283"
      },
      "outputs": [
        {
          "data": {
            "image/png": "[encoded data removed]",
            "text/plain": [
              "<Figure size 640x480 with 1 Axes>"
            ]
          },
          "metadata": {},
          "output_type": "display_data"
        }
      ],
      "source": [
        "# summarize history for loss\n",
        "plt.plot(model_history.history['loss'])\n",
        "plt.plot(model_history.history['val_loss'])\n",
        "plt.title('model loss')\n",
        "plt.ylabel('loss')\n",
        "plt.xlabel('epoch')\n",
        "plt.legend(['train', 'test'], loc='upper left')\n",
        "plt.show()"
      ]
    },
    {
      "cell_type": "code",
      "execution_count": 20,
      "metadata": {
        "id": "OYqCIIkDCd8S"
      },
      "outputs": [
        {
          "name": "stdout",
          "output_type": "stream",
          "text": [
            "63/63 [==============================] - 0s 1ms/step\n"
          ]
        }
      ],
      "source": [
        "# Part 3 - Making the predictions and evaluating the model\n",
        "\n",
        "# Predicting the Test set results\n",
        "y_pred = classifier.predict(X_test)\n",
        "y_pred = (y_pred > 0.5)"
      ]
    },
    {
      "cell_type": "code",
      "execution_count": 21,
      "metadata": {
        "colab": {
          "base_uri": "https://localhost:8080/"
        },
        "id": "cm3EeOGTCi3-",
        "outputId": "f3cfe210-0811-4c4e-ce72-4100b32bb79f"
      },
      "outputs": [
        {
          "data": {
            "text/plain": [
              "array([[1531,   64],\n",
              "       [ 202,  203]], dtype=int64)"
            ]
          },
          "execution_count": 21,
          "metadata": {},
          "output_type": "execute_result"
        }
      ],
      "source": [
        "# Making the Confusion Matrix\n",
        "from sklearn.metrics import confusion_matrix\n",
        "cm = confusion_matrix(y_test, y_pred)\n",
        "cm"
      ]
    },
    {
      "cell_type": "code",
      "execution_count": 22,
      "metadata": {
        "id": "FgfRKzzOClmP"
      },
      "outputs": [],
      "source": [
        "# Calculate the Accuracy\n",
        "from sklearn.metrics import accuracy_score\n",
        "score=accuracy_score(y_pred,y_test)"
      ]
    },
    {
      "cell_type": "code",
      "execution_count": 23,
      "metadata": {
        "colab": {
          "base_uri": "https://localhost:8080/"
        },
        "id": "a_C5EETrCpSj",
        "outputId": "6e495c58-0149-453b-b0d6-592606fe5c80"
      },
      "outputs": [
        {
          "data": {
            "text/plain": [
              "0.867"
            ]
          },
          "execution_count": 23,
          "metadata": {},
          "output_type": "execute_result"
        }
      ],
      "source": [
        "score"
      ]
    },
    {
      "cell_type": "markdown",
      "metadata": {},
      "source": [
        "WE can get the information regarding the weights  and store it as a pickle file "
      ]
    },
    {
      "cell_type": "code",
      "execution_count": 25,
      "metadata": {
        "id": "UTvHAjYWCqWx"
      },
      "outputs": [
        {
          "data": {
            "text/plain": [
              "[array([[ 0.01737328,  0.01066561, -0.13621274,  0.21169934, -0.08237621,\n",
              "          0.04769102, -0.09884694,  0.20222478,  0.2799513 ,  0.09236284,\n",
              "         -0.20464475],\n",
              "        [ 0.6002139 , -0.0437858 , -0.0028339 , -0.19196345,  1.0242614 ,\n",
              "          0.21163017, -0.3184034 , -0.42238078, -0.1718079 , -0.31645933,\n",
              "          0.0617632 ],\n",
              "        [ 0.06404023, -0.00159299, -0.3019499 , -0.09717736,  0.06262908,\n",
              "          0.0069393 , -0.21050377, -0.01333981,  0.15427306, -0.20418364,\n",
              "          0.18856837],\n",
              "        [ 0.03694283, -0.5883748 , -0.01115949, -0.05696795, -0.28665462,\n",
              "          0.52077794,  0.14857744,  0.03285351, -0.47259417,  0.2862401 ,\n",
              "         -0.16530116],\n",
              "        [ 0.8164589 , -0.14306591, -0.45216814,  0.0613097 , -1.0239683 ,\n",
              "          0.82329607,  0.5660797 , -0.96135664, -0.05922852,  0.6851609 ,\n",
              "         -0.23782846],\n",
              "        [-0.0541363 , -0.33826563, -0.04016282,  0.16519111, -0.1110819 ,\n",
              "         -0.05278338,  0.28574362, -0.11245515,  0.06201523, -0.301811  ,\n",
              "         -0.03363256],\n",
              "        [ 0.15747924,  0.40373123, -0.4837354 , -0.08501333, -0.09609637,\n",
              "         -0.56545305,  0.359587  ,  0.15754937, -0.3615371 ,  0.146374  ,\n",
              "         -0.639932  ],\n",
              "        [-0.01732418, -0.18717723,  0.08207639,  0.4015054 ,  0.06949218,\n",
              "          0.17269376, -0.06412955, -0.1778729 , -0.23803683, -0.5201582 ,\n",
              "          0.1992938 ],\n",
              "        [ 0.05830209,  0.5105526 ,  0.43683806,  0.14570843,  0.3331293 ,\n",
              "          0.2190568 , -0.31485623, -0.02286983,  0.3576037 , -0.44923443,\n",
              "         -0.38872325],\n",
              "        [ 0.21119621,  0.2649396 , -0.10317346,  0.26141256,  0.01750518,\n",
              "          0.0772351 , -0.07447543,  0.12078056,  0.04352466, -0.16640821,\n",
              "          0.11475781],\n",
              "        [ 0.07240544,  0.30886155, -0.24441834, -0.38193837, -0.03836619,\n",
              "         -0.24423614,  0.09969886,  0.15550174,  0.03360363, -0.19898814,\n",
              "         -0.16224587]], dtype=float32),\n",
              " array([-0.5056322 , -0.22459961,  0.32623872, -0.08896546, -0.13223614,\n",
              "        -0.03384011, -0.257434  ,  0.52026033, -0.05286191, -0.04846126,\n",
              "        -0.01860211], dtype=float32),\n",
              " array([[ 0.7905904 ,  0.42076513, -0.3248459 , -0.1379017 ,  0.40434268,\n",
              "          0.39970416],\n",
              "        [ 0.20249407,  0.05516601,  0.5125775 ,  0.41377234,  0.5358798 ,\n",
              "          0.03213642],\n",
              "        [ 0.10994301, -0.3639768 ,  0.21212779,  0.05918496, -0.38605022,\n",
              "          0.16157772],\n",
              "        [ 0.36708766,  0.13977247,  0.30879548,  0.34995446,  0.06713459,\n",
              "          0.37431246],\n",
              "        [ 1.0404142 ,  0.42910194, -0.15705322, -0.01469094, -0.03392875,\n",
              "         -0.5494014 ],\n",
              "        [ 0.7477977 , -0.09592132,  0.33278176, -0.33354363, -0.48131552,\n",
              "         -0.6371966 ],\n",
              "        [-0.09694908, -0.41778493, -0.41366044,  0.48481703, -0.6621111 ,\n",
              "         -0.42841762],\n",
              "        [-0.13304944, -0.37593037, -0.616787  , -0.31660935, -0.49270663,\n",
              "         -0.39248335],\n",
              "        [ 0.36694524, -0.4904844 ,  0.25084594,  0.43808997,  0.5472062 ,\n",
              "         -0.08502121],\n",
              "        [-0.16993494, -0.37630123, -0.21949856, -0.69473416,  0.23595709,\n",
              "         -0.18027535],\n",
              "        [ 0.03032773, -0.5772844 , -0.01328175, -0.31419745,  0.38063353,\n",
              "          0.23518753]], dtype=float32),\n",
              " array([-0.04143553, -0.16485934,  0.17908129, -0.10222678, -0.20193252,\n",
              "        -0.3136418 ], dtype=float32),\n",
              " array([[ 0.24820682],\n",
              "        [-0.8144245 ],\n",
              "        [-0.30366284],\n",
              "        [-0.49929973],\n",
              "        [-0.14960377],\n",
              "        [-0.20152807]], dtype=float32),\n",
              " array([0.04990952], dtype=float32)]"
            ]
          },
          "execution_count": 25,
          "metadata": {},
          "output_type": "execute_result"
        }
      ],
      "source": [
        "classifier.get_weights()"
      ]
    },
    {
      "cell_type": "code",
      "execution_count": 26,
      "metadata": {},
      "outputs": [],
      "source": [
        "import pickle"
      ]
    },
    {
      "cell_type": "code",
      "execution_count": 27,
      "metadata": {},
      "outputs": [],
      "source": [
        "model_weights =  classifier.get_weights()"
      ]
    },
    {
      "cell_type": "code",
      "execution_count": 28,
      "metadata": {},
      "outputs": [],
      "source": [
        "# Save the weights as a pickle file\n",
        "with open('model_weights.pkl', 'wb') as f:\n",
        "    pickle.dump(model_weights, f)\n",
        "\n"
      ]
    },
    {
      "cell_type": "code",
      "execution_count": null,
      "metadata": {},
      "outputs": [],
      "source": []
    }
  ],
  "metadata": {
    "colab": {
      "name": "Untitled63.ipynb",
      "provenance": []
    },
    "kernelspec": {
      "display_name": "Python 3",
      "name": "python3"
    },
    "language_info": {
      "codemirror_mode": {
        "name": "ipython",
        "version": 3
      },
      "file_extension": ".py",
      "mimetype": "text/x-python",
      "name": "python",
      "nbconvert_exporter": "python",
      "pygments_lexer": "ipython3",
      "version": "3.11.3"
    }
  },
  "nbformat": 4,
  "nbformat_minor": 0
}
