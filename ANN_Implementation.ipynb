{
 "cells": [
  {
   "cell_type": "code",
   "execution_count": 1,
   "metadata": {},
   "outputs": [
    {
     "name": "stdout",
     "output_type": "stream",
     "text": [
      "WARNING:tensorflow:From C:\\Users\\hp\\AppData\\Roaming\\Python\\Python311\\site-packages\\keras\\src\\losses.py:2976: The name tf.losses.sparse_softmax_cross_entropy is deprecated. Please use tf.compat.v1.losses.sparse_softmax_cross_entropy instead.\n",
      "\n"
     ]
    }
   ],
   "source": [
    "import tensorflow as tf"
   ]
  },
  {
   "cell_type": "code",
   "execution_count": 2,
   "metadata": {},
   "outputs": [
    {
     "data": {
      "text/plain": [
       "'2.15.0'"
      ]
     },
     "execution_count": 2,
     "metadata": {},
     "output_type": "execute_result"
    }
   ],
   "source": [
    "tf.__version__"
   ]
  },
  {
   "cell_type": "code",
   "execution_count": 3,
   "metadata": {},
   "outputs": [],
   "source": [
    "#import some basic libraries \n",
    "\n",
    "import numpy as np \n",
    "import matplotlib.pyplot as plt\n",
    "import pandas as pd \n"
   ]
  },
  {
   "cell_type": "code",
   "execution_count": 4,
   "metadata": {},
   "outputs": [],
   "source": [
    "dataset = pd.read_csv('Churn_Modelling.csv')"
   ]
  },
  {
   "cell_type": "code",
   "execution_count": 5,
   "metadata": {},
   "outputs": [
    {
     "data": {
      "text/html": [
       "<div>\n",
       "<style scoped>\n",
       "    .dataframe tbody tr th:only-of-type {\n",
       "        vertical-align: middle;\n",
       "    }\n",
       "\n",
       "    .dataframe tbody tr th {\n",
       "        vertical-align: top;\n",
       "    }\n",
       "\n",
       "    .dataframe thead th {\n",
       "        text-align: right;\n",
       "    }\n",
       "</style>\n",
       "<table border=\"1\" class=\"dataframe\">\n",
       "  <thead>\n",
       "    <tr style=\"text-align: right;\">\n",
       "      <th></th>\n",
       "      <th>RowNumber</th>\n",
       "      <th>CustomerId</th>\n",
       "      <th>Surname</th>\n",
       "      <th>CreditScore</th>\n",
       "      <th>Geography</th>\n",
       "      <th>Gender</th>\n",
       "      <th>Age</th>\n",
       "      <th>Tenure</th>\n",
       "      <th>Balance</th>\n",
       "      <th>NumOfProducts</th>\n",
       "      <th>HasCrCard</th>\n",
       "      <th>IsActiveMember</th>\n",
       "      <th>EstimatedSalary</th>\n",
       "      <th>Exited</th>\n",
       "    </tr>\n",
       "  </thead>\n",
       "  <tbody>\n",
       "    <tr>\n",
       "      <th>0</th>\n",
       "      <td>1</td>\n",
       "      <td>15634602</td>\n",
       "      <td>Hargrave</td>\n",
       "      <td>619</td>\n",
       "      <td>France</td>\n",
       "      <td>Female</td>\n",
       "      <td>42</td>\n",
       "      <td>2</td>\n",
       "      <td>0.00</td>\n",
       "      <td>1</td>\n",
       "      <td>1</td>\n",
       "      <td>1</td>\n",
       "      <td>101348.88</td>\n",
       "      <td>1</td>\n",
       "    </tr>\n",
       "    <tr>\n",
       "      <th>1</th>\n",
       "      <td>2</td>\n",
       "      <td>15647311</td>\n",
       "      <td>Hill</td>\n",
       "      <td>608</td>\n",
       "      <td>Spain</td>\n",
       "      <td>Female</td>\n",
       "      <td>41</td>\n",
       "      <td>1</td>\n",
       "      <td>83807.86</td>\n",
       "      <td>1</td>\n",
       "      <td>0</td>\n",
       "      <td>1</td>\n",
       "      <td>112542.58</td>\n",
       "      <td>0</td>\n",
       "    </tr>\n",
       "    <tr>\n",
       "      <th>2</th>\n",
       "      <td>3</td>\n",
       "      <td>15619304</td>\n",
       "      <td>Onio</td>\n",
       "      <td>502</td>\n",
       "      <td>France</td>\n",
       "      <td>Female</td>\n",
       "      <td>42</td>\n",
       "      <td>8</td>\n",
       "      <td>159660.80</td>\n",
       "      <td>3</td>\n",
       "      <td>1</td>\n",
       "      <td>0</td>\n",
       "      <td>113931.57</td>\n",
       "      <td>1</td>\n",
       "    </tr>\n",
       "    <tr>\n",
       "      <th>3</th>\n",
       "      <td>4</td>\n",
       "      <td>15701354</td>\n",
       "      <td>Boni</td>\n",
       "      <td>699</td>\n",
       "      <td>France</td>\n",
       "      <td>Female</td>\n",
       "      <td>39</td>\n",
       "      <td>1</td>\n",
       "      <td>0.00</td>\n",
       "      <td>2</td>\n",
       "      <td>0</td>\n",
       "      <td>0</td>\n",
       "      <td>93826.63</td>\n",
       "      <td>0</td>\n",
       "    </tr>\n",
       "    <tr>\n",
       "      <th>4</th>\n",
       "      <td>5</td>\n",
       "      <td>15737888</td>\n",
       "      <td>Mitchell</td>\n",
       "      <td>850</td>\n",
       "      <td>Spain</td>\n",
       "      <td>Female</td>\n",
       "      <td>43</td>\n",
       "      <td>2</td>\n",
       "      <td>125510.82</td>\n",
       "      <td>1</td>\n",
       "      <td>1</td>\n",
       "      <td>1</td>\n",
       "      <td>79084.10</td>\n",
       "      <td>0</td>\n",
       "    </tr>\n",
       "  </tbody>\n",
       "</table>\n",
       "</div>"
      ],
      "text/plain": [
       "   RowNumber  CustomerId   Surname  CreditScore Geography  Gender  Age  \\\n",
       "0          1    15634602  Hargrave          619    France  Female   42   \n",
       "1          2    15647311      Hill          608     Spain  Female   41   \n",
       "2          3    15619304      Onio          502    France  Female   42   \n",
       "3          4    15701354      Boni          699    France  Female   39   \n",
       "4          5    15737888  Mitchell          850     Spain  Female   43   \n",
       "\n",
       "   Tenure    Balance  NumOfProducts  HasCrCard  IsActiveMember  \\\n",
       "0       2       0.00              1          1               1   \n",
       "1       1   83807.86              1          0               1   \n",
       "2       8  159660.80              3          1               0   \n",
       "3       1       0.00              2          0               0   \n",
       "4       2  125510.82              1          1               1   \n",
       "\n",
       "   EstimatedSalary  Exited  \n",
       "0        101348.88       1  \n",
       "1        112542.58       0  \n",
       "2        113931.57       1  \n",
       "3         93826.63       0  \n",
       "4         79084.10       0  "
      ]
     },
     "execution_count": 5,
     "metadata": {},
     "output_type": "execute_result"
    }
   ],
   "source": [
    "dataset.head()"
   ]
  },
  {
   "cell_type": "code",
   "execution_count": 6,
   "metadata": {},
   "outputs": [
    {
     "data": {
      "text/html": [
       "<div>\n",
       "<style scoped>\n",
       "    .dataframe tbody tr th:only-of-type {\n",
       "        vertical-align: middle;\n",
       "    }\n",
       "\n",
       "    .dataframe tbody tr th {\n",
       "        vertical-align: top;\n",
       "    }\n",
       "\n",
       "    .dataframe thead th {\n",
       "        text-align: right;\n",
       "    }\n",
       "</style>\n",
       "<table border=\"1\" class=\"dataframe\">\n",
       "  <thead>\n",
       "    <tr style=\"text-align: right;\">\n",
       "      <th></th>\n",
       "      <th>CreditScore</th>\n",
       "      <th>Geography</th>\n",
       "      <th>Gender</th>\n",
       "      <th>Age</th>\n",
       "      <th>Tenure</th>\n",
       "      <th>Balance</th>\n",
       "      <th>NumOfProducts</th>\n",
       "      <th>HasCrCard</th>\n",
       "      <th>IsActiveMember</th>\n",
       "      <th>EstimatedSalary</th>\n",
       "    </tr>\n",
       "  </thead>\n",
       "  <tbody>\n",
       "    <tr>\n",
       "      <th>0</th>\n",
       "      <td>619</td>\n",
       "      <td>France</td>\n",
       "      <td>Female</td>\n",
       "      <td>42</td>\n",
       "      <td>2</td>\n",
       "      <td>0.00</td>\n",
       "      <td>1</td>\n",
       "      <td>1</td>\n",
       "      <td>1</td>\n",
       "      <td>101348.88</td>\n",
       "    </tr>\n",
       "    <tr>\n",
       "      <th>1</th>\n",
       "      <td>608</td>\n",
       "      <td>Spain</td>\n",
       "      <td>Female</td>\n",
       "      <td>41</td>\n",
       "      <td>1</td>\n",
       "      <td>83807.86</td>\n",
       "      <td>1</td>\n",
       "      <td>0</td>\n",
       "      <td>1</td>\n",
       "      <td>112542.58</td>\n",
       "    </tr>\n",
       "    <tr>\n",
       "      <th>2</th>\n",
       "      <td>502</td>\n",
       "      <td>France</td>\n",
       "      <td>Female</td>\n",
       "      <td>42</td>\n",
       "      <td>8</td>\n",
       "      <td>159660.80</td>\n",
       "      <td>3</td>\n",
       "      <td>1</td>\n",
       "      <td>0</td>\n",
       "      <td>113931.57</td>\n",
       "    </tr>\n",
       "    <tr>\n",
       "      <th>3</th>\n",
       "      <td>699</td>\n",
       "      <td>France</td>\n",
       "      <td>Female</td>\n",
       "      <td>39</td>\n",
       "      <td>1</td>\n",
       "      <td>0.00</td>\n",
       "      <td>2</td>\n",
       "      <td>0</td>\n",
       "      <td>0</td>\n",
       "      <td>93826.63</td>\n",
       "    </tr>\n",
       "    <tr>\n",
       "      <th>4</th>\n",
       "      <td>850</td>\n",
       "      <td>Spain</td>\n",
       "      <td>Female</td>\n",
       "      <td>43</td>\n",
       "      <td>2</td>\n",
       "      <td>125510.82</td>\n",
       "      <td>1</td>\n",
       "      <td>1</td>\n",
       "      <td>1</td>\n",
       "      <td>79084.10</td>\n",
       "    </tr>\n",
       "    <tr>\n",
       "      <th>...</th>\n",
       "      <td>...</td>\n",
       "      <td>...</td>\n",
       "      <td>...</td>\n",
       "      <td>...</td>\n",
       "      <td>...</td>\n",
       "      <td>...</td>\n",
       "      <td>...</td>\n",
       "      <td>...</td>\n",
       "      <td>...</td>\n",
       "      <td>...</td>\n",
       "    </tr>\n",
       "    <tr>\n",
       "      <th>9995</th>\n",
       "      <td>771</td>\n",
       "      <td>France</td>\n",
       "      <td>Male</td>\n",
       "      <td>39</td>\n",
       "      <td>5</td>\n",
       "      <td>0.00</td>\n",
       "      <td>2</td>\n",
       "      <td>1</td>\n",
       "      <td>0</td>\n",
       "      <td>96270.64</td>\n",
       "    </tr>\n",
       "    <tr>\n",
       "      <th>9996</th>\n",
       "      <td>516</td>\n",
       "      <td>France</td>\n",
       "      <td>Male</td>\n",
       "      <td>35</td>\n",
       "      <td>10</td>\n",
       "      <td>57369.61</td>\n",
       "      <td>1</td>\n",
       "      <td>1</td>\n",
       "      <td>1</td>\n",
       "      <td>101699.77</td>\n",
       "    </tr>\n",
       "    <tr>\n",
       "      <th>9997</th>\n",
       "      <td>709</td>\n",
       "      <td>France</td>\n",
       "      <td>Female</td>\n",
       "      <td>36</td>\n",
       "      <td>7</td>\n",
       "      <td>0.00</td>\n",
       "      <td>1</td>\n",
       "      <td>0</td>\n",
       "      <td>1</td>\n",
       "      <td>42085.58</td>\n",
       "    </tr>\n",
       "    <tr>\n",
       "      <th>9998</th>\n",
       "      <td>772</td>\n",
       "      <td>Germany</td>\n",
       "      <td>Male</td>\n",
       "      <td>42</td>\n",
       "      <td>3</td>\n",
       "      <td>75075.31</td>\n",
       "      <td>2</td>\n",
       "      <td>1</td>\n",
       "      <td>0</td>\n",
       "      <td>92888.52</td>\n",
       "    </tr>\n",
       "    <tr>\n",
       "      <th>9999</th>\n",
       "      <td>792</td>\n",
       "      <td>France</td>\n",
       "      <td>Female</td>\n",
       "      <td>28</td>\n",
       "      <td>4</td>\n",
       "      <td>130142.79</td>\n",
       "      <td>1</td>\n",
       "      <td>1</td>\n",
       "      <td>0</td>\n",
       "      <td>38190.78</td>\n",
       "    </tr>\n",
       "  </tbody>\n",
       "</table>\n",
       "<p>10000 rows × 10 columns</p>\n",
       "</div>"
      ],
      "text/plain": [
       "      CreditScore Geography  Gender  Age  Tenure    Balance  NumOfProducts  \\\n",
       "0             619    France  Female   42       2       0.00              1   \n",
       "1             608     Spain  Female   41       1   83807.86              1   \n",
       "2             502    France  Female   42       8  159660.80              3   \n",
       "3             699    France  Female   39       1       0.00              2   \n",
       "4             850     Spain  Female   43       2  125510.82              1   \n",
       "...           ...       ...     ...  ...     ...        ...            ...   \n",
       "9995          771    France    Male   39       5       0.00              2   \n",
       "9996          516    France    Male   35      10   57369.61              1   \n",
       "9997          709    France  Female   36       7       0.00              1   \n",
       "9998          772   Germany    Male   42       3   75075.31              2   \n",
       "9999          792    France  Female   28       4  130142.79              1   \n",
       "\n",
       "      HasCrCard  IsActiveMember  EstimatedSalary  \n",
       "0             1               1        101348.88  \n",
       "1             0               1        112542.58  \n",
       "2             1               0        113931.57  \n",
       "3             0               0         93826.63  \n",
       "4             1               1         79084.10  \n",
       "...         ...             ...              ...  \n",
       "9995          1               0         96270.64  \n",
       "9996          1               1        101699.77  \n",
       "9997          0               1         42085.58  \n",
       "9998          1               0         92888.52  \n",
       "9999          1               0         38190.78  \n",
       "\n",
       "[10000 rows x 10 columns]"
      ]
     },
     "execution_count": 6,
     "metadata": {},
     "output_type": "execute_result"
    }
   ],
   "source": [
    "#splitting the dataset into independant  AND dependant feature \n",
    "\n",
    "X=dataset.iloc[:,3:13]\n",
    "X"
   ]
  },
  {
   "cell_type": "code",
   "execution_count": 7,
   "metadata": {},
   "outputs": [
    {
     "data": {
      "text/plain": [
       "0       1\n",
       "1       0\n",
       "2       1\n",
       "3       0\n",
       "4       0\n",
       "       ..\n",
       "9995    0\n",
       "9996    0\n",
       "9997    1\n",
       "9998    1\n",
       "9999    0\n",
       "Name: Exited, Length: 10000, dtype: int64"
      ]
     },
     "execution_count": 7,
     "metadata": {},
     "output_type": "execute_result"
    }
   ],
   "source": [
    "y=dataset.iloc[:,13]\n",
    "y"
   ]
  },
  {
   "cell_type": "code",
   "execution_count": 8,
   "metadata": {},
   "outputs": [
    {
     "data": {
      "text/html": [
       "<div>\n",
       "<style scoped>\n",
       "    .dataframe tbody tr th:only-of-type {\n",
       "        vertical-align: middle;\n",
       "    }\n",
       "\n",
       "    .dataframe tbody tr th {\n",
       "        vertical-align: top;\n",
       "    }\n",
       "\n",
       "    .dataframe thead th {\n",
       "        text-align: right;\n",
       "    }\n",
       "</style>\n",
       "<table border=\"1\" class=\"dataframe\">\n",
       "  <thead>\n",
       "    <tr style=\"text-align: right;\">\n",
       "      <th></th>\n",
       "      <th>Germany</th>\n",
       "      <th>Spain</th>\n",
       "    </tr>\n",
       "  </thead>\n",
       "  <tbody>\n",
       "    <tr>\n",
       "      <th>0</th>\n",
       "      <td>0</td>\n",
       "      <td>0</td>\n",
       "    </tr>\n",
       "    <tr>\n",
       "      <th>1</th>\n",
       "      <td>0</td>\n",
       "      <td>1</td>\n",
       "    </tr>\n",
       "    <tr>\n",
       "      <th>2</th>\n",
       "      <td>0</td>\n",
       "      <td>0</td>\n",
       "    </tr>\n",
       "    <tr>\n",
       "      <th>3</th>\n",
       "      <td>0</td>\n",
       "      <td>0</td>\n",
       "    </tr>\n",
       "    <tr>\n",
       "      <th>4</th>\n",
       "      <td>0</td>\n",
       "      <td>1</td>\n",
       "    </tr>\n",
       "    <tr>\n",
       "      <th>...</th>\n",
       "      <td>...</td>\n",
       "      <td>...</td>\n",
       "    </tr>\n",
       "    <tr>\n",
       "      <th>9995</th>\n",
       "      <td>0</td>\n",
       "      <td>0</td>\n",
       "    </tr>\n",
       "    <tr>\n",
       "      <th>9996</th>\n",
       "      <td>0</td>\n",
       "      <td>0</td>\n",
       "    </tr>\n",
       "    <tr>\n",
       "      <th>9997</th>\n",
       "      <td>0</td>\n",
       "      <td>0</td>\n",
       "    </tr>\n",
       "    <tr>\n",
       "      <th>9998</th>\n",
       "      <td>1</td>\n",
       "      <td>0</td>\n",
       "    </tr>\n",
       "    <tr>\n",
       "      <th>9999</th>\n",
       "      <td>0</td>\n",
       "      <td>0</td>\n",
       "    </tr>\n",
       "  </tbody>\n",
       "</table>\n",
       "<p>10000 rows × 2 columns</p>\n",
       "</div>"
      ],
      "text/plain": [
       "      Germany  Spain\n",
       "0           0      0\n",
       "1           0      1\n",
       "2           0      0\n",
       "3           0      0\n",
       "4           0      1\n",
       "...       ...    ...\n",
       "9995        0      0\n",
       "9996        0      0\n",
       "9997        0      0\n",
       "9998        1      0\n",
       "9999        0      0\n",
       "\n",
       "[10000 rows x 2 columns]"
      ]
     },
     "execution_count": 8,
     "metadata": {},
     "output_type": "execute_result"
    }
   ],
   "source": [
    "#Feature engineering \n",
    "\n",
    "geography = pd.get_dummies(X['Geography'],drop_first=True)\n",
    "geography"
   ]
  },
  {
   "cell_type": "code",
   "execution_count": 9,
   "metadata": {},
   "outputs": [
    {
     "data": {
      "text/html": [
       "<div>\n",
       "<style scoped>\n",
       "    .dataframe tbody tr th:only-of-type {\n",
       "        vertical-align: middle;\n",
       "    }\n",
       "\n",
       "    .dataframe tbody tr th {\n",
       "        vertical-align: top;\n",
       "    }\n",
       "\n",
       "    .dataframe thead th {\n",
       "        text-align: right;\n",
       "    }\n",
       "</style>\n",
       "<table border=\"1\" class=\"dataframe\">\n",
       "  <thead>\n",
       "    <tr style=\"text-align: right;\">\n",
       "      <th></th>\n",
       "      <th>Male</th>\n",
       "    </tr>\n",
       "  </thead>\n",
       "  <tbody>\n",
       "    <tr>\n",
       "      <th>0</th>\n",
       "      <td>0</td>\n",
       "    </tr>\n",
       "    <tr>\n",
       "      <th>1</th>\n",
       "      <td>0</td>\n",
       "    </tr>\n",
       "    <tr>\n",
       "      <th>2</th>\n",
       "      <td>0</td>\n",
       "    </tr>\n",
       "    <tr>\n",
       "      <th>3</th>\n",
       "      <td>0</td>\n",
       "    </tr>\n",
       "    <tr>\n",
       "      <th>4</th>\n",
       "      <td>0</td>\n",
       "    </tr>\n",
       "    <tr>\n",
       "      <th>...</th>\n",
       "      <td>...</td>\n",
       "    </tr>\n",
       "    <tr>\n",
       "      <th>9995</th>\n",
       "      <td>1</td>\n",
       "    </tr>\n",
       "    <tr>\n",
       "      <th>9996</th>\n",
       "      <td>1</td>\n",
       "    </tr>\n",
       "    <tr>\n",
       "      <th>9997</th>\n",
       "      <td>0</td>\n",
       "    </tr>\n",
       "    <tr>\n",
       "      <th>9998</th>\n",
       "      <td>1</td>\n",
       "    </tr>\n",
       "    <tr>\n",
       "      <th>9999</th>\n",
       "      <td>0</td>\n",
       "    </tr>\n",
       "  </tbody>\n",
       "</table>\n",
       "<p>10000 rows × 1 columns</p>\n",
       "</div>"
      ],
      "text/plain": [
       "      Male\n",
       "0        0\n",
       "1        0\n",
       "2        0\n",
       "3        0\n",
       "4        0\n",
       "...    ...\n",
       "9995     1\n",
       "9996     1\n",
       "9997     0\n",
       "9998     1\n",
       "9999     0\n",
       "\n",
       "[10000 rows x 1 columns]"
      ]
     },
     "execution_count": 9,
     "metadata": {},
     "output_type": "execute_result"
    }
   ],
   "source": [
    "gender = pd.get_dummies(X['Gender'],drop_first=True)\n",
    "gender"
   ]
  },
  {
   "cell_type": "code",
   "execution_count": 10,
   "metadata": {},
   "outputs": [],
   "source": [
    "#concatenate these variable with dataframe "
   ]
  },
  {
   "cell_type": "code",
   "execution_count": 11,
   "metadata": {},
   "outputs": [],
   "source": [
    "X= X.drop(['Geography','Gender'],axis=1)"
   ]
  },
  {
   "cell_type": "code",
   "execution_count": 12,
   "metadata": {},
   "outputs": [],
   "source": [
    "X=pd.concat([X,geography,gender],axis=1)"
   ]
  },
  {
   "cell_type": "code",
   "execution_count": 13,
   "metadata": {},
   "outputs": [
    {
     "data": {
      "text/html": [
       "<div>\n",
       "<style scoped>\n",
       "    .dataframe tbody tr th:only-of-type {\n",
       "        vertical-align: middle;\n",
       "    }\n",
       "\n",
       "    .dataframe tbody tr th {\n",
       "        vertical-align: top;\n",
       "    }\n",
       "\n",
       "    .dataframe thead th {\n",
       "        text-align: right;\n",
       "    }\n",
       "</style>\n",
       "<table border=\"1\" class=\"dataframe\">\n",
       "  <thead>\n",
       "    <tr style=\"text-align: right;\">\n",
       "      <th></th>\n",
       "      <th>CreditScore</th>\n",
       "      <th>Age</th>\n",
       "      <th>Tenure</th>\n",
       "      <th>Balance</th>\n",
       "      <th>NumOfProducts</th>\n",
       "      <th>HasCrCard</th>\n",
       "      <th>IsActiveMember</th>\n",
       "      <th>EstimatedSalary</th>\n",
       "      <th>Germany</th>\n",
       "      <th>Spain</th>\n",
       "      <th>Male</th>\n",
       "    </tr>\n",
       "  </thead>\n",
       "  <tbody>\n",
       "    <tr>\n",
       "      <th>0</th>\n",
       "      <td>619</td>\n",
       "      <td>42</td>\n",
       "      <td>2</td>\n",
       "      <td>0.00</td>\n",
       "      <td>1</td>\n",
       "      <td>1</td>\n",
       "      <td>1</td>\n",
       "      <td>101348.88</td>\n",
       "      <td>0</td>\n",
       "      <td>0</td>\n",
       "      <td>0</td>\n",
       "    </tr>\n",
       "    <tr>\n",
       "      <th>1</th>\n",
       "      <td>608</td>\n",
       "      <td>41</td>\n",
       "      <td>1</td>\n",
       "      <td>83807.86</td>\n",
       "      <td>1</td>\n",
       "      <td>0</td>\n",
       "      <td>1</td>\n",
       "      <td>112542.58</td>\n",
       "      <td>0</td>\n",
       "      <td>1</td>\n",
       "      <td>0</td>\n",
       "    </tr>\n",
       "    <tr>\n",
       "      <th>2</th>\n",
       "      <td>502</td>\n",
       "      <td>42</td>\n",
       "      <td>8</td>\n",
       "      <td>159660.80</td>\n",
       "      <td>3</td>\n",
       "      <td>1</td>\n",
       "      <td>0</td>\n",
       "      <td>113931.57</td>\n",
       "      <td>0</td>\n",
       "      <td>0</td>\n",
       "      <td>0</td>\n",
       "    </tr>\n",
       "    <tr>\n",
       "      <th>3</th>\n",
       "      <td>699</td>\n",
       "      <td>39</td>\n",
       "      <td>1</td>\n",
       "      <td>0.00</td>\n",
       "      <td>2</td>\n",
       "      <td>0</td>\n",
       "      <td>0</td>\n",
       "      <td>93826.63</td>\n",
       "      <td>0</td>\n",
       "      <td>0</td>\n",
       "      <td>0</td>\n",
       "    </tr>\n",
       "    <tr>\n",
       "      <th>4</th>\n",
       "      <td>850</td>\n",
       "      <td>43</td>\n",
       "      <td>2</td>\n",
       "      <td>125510.82</td>\n",
       "      <td>1</td>\n",
       "      <td>1</td>\n",
       "      <td>1</td>\n",
       "      <td>79084.10</td>\n",
       "      <td>0</td>\n",
       "      <td>1</td>\n",
       "      <td>0</td>\n",
       "    </tr>\n",
       "    <tr>\n",
       "      <th>...</th>\n",
       "      <td>...</td>\n",
       "      <td>...</td>\n",
       "      <td>...</td>\n",
       "      <td>...</td>\n",
       "      <td>...</td>\n",
       "      <td>...</td>\n",
       "      <td>...</td>\n",
       "      <td>...</td>\n",
       "      <td>...</td>\n",
       "      <td>...</td>\n",
       "      <td>...</td>\n",
       "    </tr>\n",
       "    <tr>\n",
       "      <th>9995</th>\n",
       "      <td>771</td>\n",
       "      <td>39</td>\n",
       "      <td>5</td>\n",
       "      <td>0.00</td>\n",
       "      <td>2</td>\n",
       "      <td>1</td>\n",
       "      <td>0</td>\n",
       "      <td>96270.64</td>\n",
       "      <td>0</td>\n",
       "      <td>0</td>\n",
       "      <td>1</td>\n",
       "    </tr>\n",
       "    <tr>\n",
       "      <th>9996</th>\n",
       "      <td>516</td>\n",
       "      <td>35</td>\n",
       "      <td>10</td>\n",
       "      <td>57369.61</td>\n",
       "      <td>1</td>\n",
       "      <td>1</td>\n",
       "      <td>1</td>\n",
       "      <td>101699.77</td>\n",
       "      <td>0</td>\n",
       "      <td>0</td>\n",
       "      <td>1</td>\n",
       "    </tr>\n",
       "    <tr>\n",
       "      <th>9997</th>\n",
       "      <td>709</td>\n",
       "      <td>36</td>\n",
       "      <td>7</td>\n",
       "      <td>0.00</td>\n",
       "      <td>1</td>\n",
       "      <td>0</td>\n",
       "      <td>1</td>\n",
       "      <td>42085.58</td>\n",
       "      <td>0</td>\n",
       "      <td>0</td>\n",
       "      <td>0</td>\n",
       "    </tr>\n",
       "    <tr>\n",
       "      <th>9998</th>\n",
       "      <td>772</td>\n",
       "      <td>42</td>\n",
       "      <td>3</td>\n",
       "      <td>75075.31</td>\n",
       "      <td>2</td>\n",
       "      <td>1</td>\n",
       "      <td>0</td>\n",
       "      <td>92888.52</td>\n",
       "      <td>1</td>\n",
       "      <td>0</td>\n",
       "      <td>1</td>\n",
       "    </tr>\n",
       "    <tr>\n",
       "      <th>9999</th>\n",
       "      <td>792</td>\n",
       "      <td>28</td>\n",
       "      <td>4</td>\n",
       "      <td>130142.79</td>\n",
       "      <td>1</td>\n",
       "      <td>1</td>\n",
       "      <td>0</td>\n",
       "      <td>38190.78</td>\n",
       "      <td>0</td>\n",
       "      <td>0</td>\n",
       "      <td>0</td>\n",
       "    </tr>\n",
       "  </tbody>\n",
       "</table>\n",
       "<p>10000 rows × 11 columns</p>\n",
       "</div>"
      ],
      "text/plain": [
       "      CreditScore  Age  Tenure    Balance  NumOfProducts  HasCrCard  \\\n",
       "0             619   42       2       0.00              1          1   \n",
       "1             608   41       1   83807.86              1          0   \n",
       "2             502   42       8  159660.80              3          1   \n",
       "3             699   39       1       0.00              2          0   \n",
       "4             850   43       2  125510.82              1          1   \n",
       "...           ...  ...     ...        ...            ...        ...   \n",
       "9995          771   39       5       0.00              2          1   \n",
       "9996          516   35      10   57369.61              1          1   \n",
       "9997          709   36       7       0.00              1          0   \n",
       "9998          772   42       3   75075.31              2          1   \n",
       "9999          792   28       4  130142.79              1          1   \n",
       "\n",
       "      IsActiveMember  EstimatedSalary  Germany  Spain  Male  \n",
       "0                  1        101348.88        0      0     0  \n",
       "1                  1        112542.58        0      1     0  \n",
       "2                  0        113931.57        0      0     0  \n",
       "3                  0         93826.63        0      0     0  \n",
       "4                  1         79084.10        0      1     0  \n",
       "...              ...              ...      ...    ...   ...  \n",
       "9995               0         96270.64        0      0     1  \n",
       "9996               1        101699.77        0      0     1  \n",
       "9997               1         42085.58        0      0     0  \n",
       "9998               0         92888.52        1      0     1  \n",
       "9999               0         38190.78        0      0     0  \n",
       "\n",
       "[10000 rows x 11 columns]"
      ]
     },
     "execution_count": 13,
     "metadata": {},
     "output_type": "execute_result"
    }
   ],
   "source": [
    "X"
   ]
  },
  {
   "cell_type": "markdown",
   "metadata": {},
   "source": [
    "Splitting the dataset into training and test set"
   ]
  },
  {
   "cell_type": "code",
   "execution_count": 14,
   "metadata": {},
   "outputs": [],
   "source": [
    "from sklearn.model_selection import train_test_split"
   ]
  },
  {
   "cell_type": "code",
   "execution_count": 15,
   "metadata": {},
   "outputs": [],
   "source": [
    "X_train , X_test , y_train , y_test = train_test_split(X,y, test_size=0.20,random_state=0)"
   ]
  },
  {
   "cell_type": "markdown",
   "metadata": {},
   "source": [
    "Feature scaling "
   ]
  },
  {
   "cell_type": "code",
   "execution_count": 16,
   "metadata": {},
   "outputs": [],
   "source": [
    "from sklearn.preprocessing import StandardScaler\n",
    "sc = StandardScaler()\n",
    "X_train= sc.fit_transform(X_train)\n",
    "X_test = sc.transform(X_test)"
   ]
  },
  {
   "cell_type": "code",
   "execution_count": 17,
   "metadata": {},
   "outputs": [
    {
     "data": {
      "text/plain": [
       "array([[ 0.16958176, -0.46460796,  0.00666099, ..., -0.5698444 ,\n",
       "         1.74309049, -1.09168714],\n",
       "       [-2.30455945,  0.30102557, -1.37744033, ...,  1.75486502,\n",
       "        -0.57369368,  0.91601335],\n",
       "       [-1.19119591, -0.94312892, -1.031415  , ..., -0.5698444 ,\n",
       "        -0.57369368, -1.09168714],\n",
       "       ...,\n",
       "       [ 0.9015152 , -0.36890377,  0.00666099, ..., -0.5698444 ,\n",
       "        -0.57369368,  0.91601335],\n",
       "       [-0.62420521, -0.08179119,  1.39076231, ..., -0.5698444 ,\n",
       "         1.74309049, -1.09168714],\n",
       "       [-0.28401079,  0.87525072, -1.37744033, ...,  1.75486502,\n",
       "        -0.57369368, -1.09168714]])"
      ]
     },
     "execution_count": 17,
     "metadata": {},
     "output_type": "execute_result"
    }
   ],
   "source": [
    "X_train"
   ]
  },
  {
   "cell_type": "code",
   "execution_count": 18,
   "metadata": {},
   "outputs": [
    {
     "data": {
      "text/plain": [
       "array([[-0.55204276, -0.36890377,  1.04473698, ...,  1.75486502,\n",
       "        -0.57369368, -1.09168714],\n",
       "       [-1.31490297,  0.10961719, -1.031415  , ..., -0.5698444 ,\n",
       "        -0.57369368, -1.09168714],\n",
       "       [ 0.57162971,  0.30102557,  1.04473698, ..., -0.5698444 ,\n",
       "         1.74309049, -1.09168714],\n",
       "       ...,\n",
       "       [-0.74791227, -0.27319958, -1.37744033, ..., -0.5698444 ,\n",
       "         1.74309049,  0.91601335],\n",
       "       [-0.00566991, -0.46460796, -0.33936434, ...,  1.75486502,\n",
       "        -0.57369368,  0.91601335],\n",
       "       [-0.79945688, -0.84742473,  1.04473698, ...,  1.75486502,\n",
       "        -0.57369368,  0.91601335]])"
      ]
     },
     "execution_count": 18,
     "metadata": {},
     "output_type": "execute_result"
    }
   ],
   "source": [
    "X_test"
   ]
  },
  {
   "cell_type": "code",
   "execution_count": 19,
   "metadata": {},
   "outputs": [
    {
     "data": {
      "text/plain": [
       "(8000, 11)"
      ]
     },
     "execution_count": 19,
     "metadata": {},
     "output_type": "execute_result"
    }
   ],
   "source": [
    "X_train.shape"
   ]
  },
  {
   "cell_type": "code",
   "execution_count": 20,
   "metadata": {},
   "outputs": [
    {
     "data": {
      "text/plain": [
       "(2000, 11)"
      ]
     },
     "execution_count": 20,
     "metadata": {},
     "output_type": "execute_result"
    }
   ],
   "source": [
    "X_test.shape"
   ]
  },
  {
   "cell_type": "markdown",
   "metadata": {},
   "source": [
    "### Part 2 "
   ]
  },
  {
   "cell_type": "markdown",
   "metadata": {},
   "source": [
    "Lets create ANN "
   ]
  },
  {
   "cell_type": "markdown",
   "metadata": {},
   "source": [
    "1.Tensorflow ---> Gooogle deepmind \n",
    "\n",
    "2.Pytorch ---> facebook \n",
    "\n",
    "Keras --> wrapper \n",
    "\n",
    "After 2.0 keras and tensorflow got integrated \n",
    "\n"
   ]
  },
  {
   "cell_type": "code",
   "execution_count": 21,
   "metadata": {},
   "outputs": [],
   "source": [
    "from tensorflow.keras.models import Sequential \n",
    "from tensorflow.keras.layers import Dense \n",
    "from tensorflow.keras.layers import LeakyReLU,PReLU,ELU,ReLU\n",
    "from tensorflow.keras.layers import Dropout"
   ]
  },
  {
   "cell_type": "markdown",
   "metadata": {},
   "source": [
    "- **Sequential Model:** This part allows you to create a neural network model by sequentially stacking layers. It simplifies the process of building a model by adding layers one after the other in a linear fashion, making it easier to define and train complex architectures.\n",
    "\n",
    "- **Dense Layer:** The Dense layer is a standard fully connected layer in a neural network. It connects every neuron in one layer to every neuron in the next layer, allowing for complex learning patterns to be captured in the data. This layer is fundamental in most neural network architectures.\n",
    "\n",
    "- **Activation Functions:** Activation functions like LeakyReLU, PReLU, ELU, and ReLU are used to introduce non-linearity into the neural network. They help the model learn complex patterns by adding flexibility and allowing the network to model more intricate relationships within the data.\n",
    "\n",
    "- **Dropout Layer:** The Dropout layer is a regularization technique used during training to prevent overfitting. It randomly sets a fraction of input units to zero at each update during training, which helps prevent the model from relying too heavily on specific features or correlations in the training data, thus improving its generalization performance."
   ]
  },
  {
   "cell_type": "markdown",
   "metadata": {},
   "source": [
    "Lets iniatialize the ANN\n"
   ]
  },
  {
   "cell_type": "code",
   "execution_count": 22,
   "metadata": {},
   "outputs": [
    {
     "name": "stdout",
     "output_type": "stream",
     "text": [
      "WARNING:tensorflow:From C:\\Users\\hp\\AppData\\Roaming\\Python\\Python311\\site-packages\\keras\\src\\backend.py:873: The name tf.get_default_graph is deprecated. Please use tf.compat.v1.get_default_graph instead.\n",
      "\n"
     ]
    }
   ],
   "source": [
    "classifier = Sequential()"
   ]
  },
  {
   "cell_type": "markdown",
   "metadata": {},
   "source": [
    "Adding the input layer "
   ]
  },
  {
   "cell_type": "code",
   "execution_count": 23,
   "metadata": {},
   "outputs": [],
   "source": [
    "classifier.add(Dense(units=11,activation='ReLU'))\n"
   ]
  },
  {
   "cell_type": "markdown",
   "metadata": {},
   "source": [
    "Adding the first hidden layer "
   ]
  },
  {
   "cell_type": "code",
   "execution_count": 24,
   "metadata": {},
   "outputs": [],
   "source": [
    "classifier.add(Dense(units=7,activation='ReLU'))\n",
    "classifier.add(Dropout(0.2))"
   ]
  },
  {
   "cell_type": "markdown",
   "metadata": {},
   "source": [
    "Adding the second hidden layer "
   ]
  },
  {
   "cell_type": "code",
   "execution_count": 25,
   "metadata": {},
   "outputs": [],
   "source": [
    "classifier.add(Dense(units=6,activation='ReLU'))\n",
    "classifier.add(Dropout(0.2))"
   ]
  },
  {
   "cell_type": "markdown",
   "metadata": {},
   "source": [
    "Adding the output layer "
   ]
  },
  {
   "cell_type": "code",
   "execution_count": 26,
   "metadata": {},
   "outputs": [],
   "source": [
    "classifier.add(Dense(1,activation='sigmoid'))"
   ]
  },
  {
   "cell_type": "code",
   "execution_count": 27,
   "metadata": {},
   "outputs": [
    {
     "name": "stdout",
     "output_type": "stream",
     "text": [
      "WARNING:tensorflow:From C:\\Users\\hp\\AppData\\Roaming\\Python\\Python311\\site-packages\\keras\\src\\optimizers\\__init__.py:309: The name tf.train.Optimizer is deprecated. Please use tf.compat.v1.train.Optimizer instead.\n",
      "\n"
     ]
    }
   ],
   "source": [
    "classifier.compile(optimizer='adam',loss='binary_crossentropy',metrics=['accuracy'])"
   ]
  },
  {
   "cell_type": "markdown",
   "metadata": {},
   "source": [
    "by default adam will add a learning rate of 0.01\n",
    "\n",
    "Or , \n",
    "\n",
    "if  you want to add the learning rate separately ;"
   ]
  },
  {
   "cell_type": "code",
   "execution_count": 28,
   "metadata": {},
   "outputs": [],
   "source": [
    "#import tensorflow\n",
    "#opt= tensorflow.keras.optimizers.Adam(learning_rate=0.01)\n",
    "\n",
    "#classifier.compile(optimizer='opt',loss='binary_crossentropy',metrics=['accuracy'])"
   ]
  },
  {
   "cell_type": "markdown",
   "metadata": {},
   "source": [
    "Now we have to train the model "
   ]
  },
  {
   "cell_type": "code",
   "execution_count": 29,
   "metadata": {},
   "outputs": [],
   "source": [
    "#model_history =classifier.fit(X_train,y_train,validation_split=0.33,batch_size=10,epochs =1000)"
   ]
  },
  {
   "cell_type": "markdown",
   "metadata": {},
   "source": [
    "* You have a training dataset of size 8000 samples (X_train.shape = (8000, 11)).\n",
    "* You're using a batch size of 10 (batch_size=10).\n",
    "* Therefore, the total number of batches per epoch would be 8000 / 10 = 800.\n",
    "* However, since you're also using a validation split of 33% (validation_split=0.33), a portion of the training data is reserved for validation. So, the actual number of batches used for training would be slightly less than 800.\n",
    "* The number \"536\" you see in the output indicates that in that particular epoch, 536 batches were processed."
   ]
  },
  {
   "cell_type": "markdown",
   "metadata": {},
   "source": [
    "1- 0.33 (validation)\n",
    "\n",
    "0.67*8000 data points /10 batch size = 536"
   ]
  },
  {
   "cell_type": "markdown",
   "metadata": {},
   "source": [
    "1. Number of Epochs (epochs): The number of epochs determines how many times the model will go through the entire dataset during training. In this case, setting epochs to 1000 means that the model will iterate over the training data 1000 times to learn from it. Using a higher number of epochs allows the model to potentially learn more complex patterns but may also increase the risk of overfitting if not monitored carefully.\n",
    "\n",
    "\n",
    "2. Batch Size: The batch size specifies the number of data points used in each iteration during training. A batch size of 10 means that the model will update its weights after processing every 10 data points. Smaller batch sizes can lead to more frequent weight updates and potentially faster convergence, while larger batch sizes may provide computational efficiency but could result in slower convergence.\n",
    "\n",
    "\n",
    "3. Validation Split: The validation split parameter determines how much of the training data is used for validation during training. In this case, a validation split of 0.33 means that 33% of the training data (after shuffling) is set aside for validation while training the model. This validation set helps monitor the model's performance on unseen data and can be crucial for detecting overfitting or assessing generalization capabilities."
   ]
  },
  {
   "cell_type": "markdown",
   "metadata": {},
   "source": [
    "What should be the number of epochs?"
   ]
  },
  {
   "cell_type": "markdown",
   "metadata": {},
   "source": [
    "## Early stopping?\n",
    "\n",
    "* It makes sure that , whenever the accuaracy is not much increasing  then automatically the training will stop. \n",
    "\n",
    "\n",
    "* ie., Stop training when a monitored metric has stopped improving  and can idebtify on which epoch it basically stopped \n",
    "\n",
    "\n",
    "* Early stopping is a regularization technique used in machine learning to prevent overfitting. It monitors the performance of the model on a held-out validation set during training and terminates the training if the validation performance stops improving. This is done to prevent the model from overfitting to the training data and improve its generalization capabilities."
   ]
  },
  {
   "cell_type": "code",
   "execution_count": 30,
   "metadata": {},
   "outputs": [],
   "source": [
    "import tensorflow as tf \n",
    "early_stopping = tf.keras.callbacks.EarlyStopping(monitor='val_loss',min_delta=0.0001,patience=20,verbose=1,mode=\"auto\",baseline=None,restore_best_weights=False)"
   ]
  },
  {
   "cell_type": "code",
   "execution_count": 31,
   "metadata": {},
   "outputs": [
    {
     "name": "stdout",
     "output_type": "stream",
     "text": [
      "Epoch 1/1000\n",
      "WARNING:tensorflow:From C:\\Users\\hp\\AppData\\Roaming\\Python\\Python311\\site-packages\\keras\\src\\utils\\tf_utils.py:492: The name tf.ragged.RaggedTensorValue is deprecated. Please use tf.compat.v1.ragged.RaggedTensorValue instead.\n",
      "\n",
      "WARNING:tensorflow:From C:\\Users\\hp\\AppData\\Roaming\\Python\\Python311\\site-packages\\keras\\src\\engine\\base_layer_utils.py:384: The name tf.executing_eagerly_outside_functions is deprecated. Please use tf.compat.v1.executing_eagerly_outside_functions instead.\n",
      "\n",
      "536/536 [==============================] - 4s 3ms/step - loss: 0.5369 - accuracy: 0.7779 - val_loss: 0.4603 - val_accuracy: 0.7955\n",
      "Epoch 2/1000\n",
      "536/536 [==============================] - 1s 3ms/step - loss: 0.4645 - accuracy: 0.7959 - val_loss: 0.4433 - val_accuracy: 0.7955\n",
      "Epoch 3/1000\n",
      "536/536 [==============================] - 1s 3ms/step - loss: 0.4500 - accuracy: 0.7960 - val_loss: 0.4340 - val_accuracy: 0.7955\n",
      "Epoch 4/1000\n",
      "536/536 [==============================] - 1s 3ms/step - loss: 0.4436 - accuracy: 0.7962 - val_loss: 0.4245 - val_accuracy: 0.7955\n",
      "Epoch 5/1000\n",
      "536/536 [==============================] - 1s 3ms/step - loss: 0.4337 - accuracy: 0.8011 - val_loss: 0.4141 - val_accuracy: 0.7993\n",
      "Epoch 6/1000\n",
      "536/536 [==============================] - 2s 3ms/step - loss: 0.4223 - accuracy: 0.8184 - val_loss: 0.4038 - val_accuracy: 0.8277\n",
      "Epoch 7/1000\n",
      "536/536 [==============================] - 2s 3ms/step - loss: 0.4068 - accuracy: 0.8278 - val_loss: 0.3923 - val_accuracy: 0.8349\n",
      "Epoch 8/1000\n",
      "536/536 [==============================] - 1s 2ms/step - loss: 0.4026 - accuracy: 0.8252 - val_loss: 0.3841 - val_accuracy: 0.8410\n",
      "Epoch 9/1000\n",
      "536/536 [==============================] - 1s 2ms/step - loss: 0.3935 - accuracy: 0.8313 - val_loss: 0.3800 - val_accuracy: 0.8417\n",
      "Epoch 10/1000\n",
      "536/536 [==============================] - 1s 2ms/step - loss: 0.3870 - accuracy: 0.8347 - val_loss: 0.3738 - val_accuracy: 0.8478\n",
      "Epoch 11/1000\n",
      "536/536 [==============================] - 1s 3ms/step - loss: 0.3815 - accuracy: 0.8330 - val_loss: 0.3724 - val_accuracy: 0.8482\n",
      "Epoch 12/1000\n",
      "536/536 [==============================] - 1s 3ms/step - loss: 0.3851 - accuracy: 0.8326 - val_loss: 0.3700 - val_accuracy: 0.8489\n",
      "Epoch 13/1000\n",
      "536/536 [==============================] - 1s 3ms/step - loss: 0.3782 - accuracy: 0.8360 - val_loss: 0.3667 - val_accuracy: 0.8466\n",
      "Epoch 14/1000\n",
      "536/536 [==============================] - 1s 3ms/step - loss: 0.3750 - accuracy: 0.8382 - val_loss: 0.3673 - val_accuracy: 0.8489\n",
      "Epoch 15/1000\n",
      "536/536 [==============================] - 1s 3ms/step - loss: 0.3708 - accuracy: 0.8399 - val_loss: 0.3661 - val_accuracy: 0.8497\n",
      "Epoch 16/1000\n",
      "536/536 [==============================] - 2s 3ms/step - loss: 0.3717 - accuracy: 0.8354 - val_loss: 0.3681 - val_accuracy: 0.8485\n",
      "Epoch 17/1000\n",
      "536/536 [==============================] - 1s 3ms/step - loss: 0.3675 - accuracy: 0.8380 - val_loss: 0.3640 - val_accuracy: 0.8501\n",
      "Epoch 18/1000\n",
      "536/536 [==============================] - 2s 3ms/step - loss: 0.3628 - accuracy: 0.8423 - val_loss: 0.3642 - val_accuracy: 0.8497\n",
      "Epoch 19/1000\n",
      "536/536 [==============================] - 1s 3ms/step - loss: 0.3693 - accuracy: 0.8399 - val_loss: 0.3634 - val_accuracy: 0.8512\n",
      "Epoch 20/1000\n",
      "536/536 [==============================] - 1s 3ms/step - loss: 0.3731 - accuracy: 0.8401 - val_loss: 0.3658 - val_accuracy: 0.8508\n",
      "Epoch 21/1000\n",
      "536/536 [==============================] - 1s 3ms/step - loss: 0.3632 - accuracy: 0.8453 - val_loss: 0.3641 - val_accuracy: 0.8512\n",
      "Epoch 22/1000\n",
      "536/536 [==============================] - 1s 3ms/step - loss: 0.3642 - accuracy: 0.8429 - val_loss: 0.3632 - val_accuracy: 0.8512\n",
      "Epoch 23/1000\n",
      "536/536 [==============================] - 1s 3ms/step - loss: 0.3638 - accuracy: 0.8419 - val_loss: 0.3636 - val_accuracy: 0.8512\n",
      "Epoch 24/1000\n",
      "536/536 [==============================] - 1s 3ms/step - loss: 0.3628 - accuracy: 0.8416 - val_loss: 0.3642 - val_accuracy: 0.8531\n",
      "Epoch 25/1000\n",
      "536/536 [==============================] - 1s 2ms/step - loss: 0.3596 - accuracy: 0.8427 - val_loss: 0.3690 - val_accuracy: 0.8497\n",
      "Epoch 26/1000\n",
      "536/536 [==============================] - 1s 2ms/step - loss: 0.3663 - accuracy: 0.8406 - val_loss: 0.3659 - val_accuracy: 0.8504\n",
      "Epoch 27/1000\n",
      "536/536 [==============================] - 1s 2ms/step - loss: 0.3649 - accuracy: 0.8427 - val_loss: 0.3653 - val_accuracy: 0.8523\n",
      "Epoch 28/1000\n",
      "536/536 [==============================] - 1s 2ms/step - loss: 0.3641 - accuracy: 0.8391 - val_loss: 0.3640 - val_accuracy: 0.8501\n",
      "Epoch 29/1000\n",
      "536/536 [==============================] - 1s 3ms/step - loss: 0.3677 - accuracy: 0.8386 - val_loss: 0.3616 - val_accuracy: 0.8538\n",
      "Epoch 30/1000\n",
      "536/536 [==============================] - 1s 3ms/step - loss: 0.3654 - accuracy: 0.8416 - val_loss: 0.3615 - val_accuracy: 0.8519\n",
      "Epoch 31/1000\n",
      "536/536 [==============================] - 1s 3ms/step - loss: 0.3597 - accuracy: 0.8419 - val_loss: 0.3624 - val_accuracy: 0.8489\n",
      "Epoch 32/1000\n",
      "536/536 [==============================] - 1s 3ms/step - loss: 0.3639 - accuracy: 0.8382 - val_loss: 0.3628 - val_accuracy: 0.8519\n",
      "Epoch 33/1000\n",
      "536/536 [==============================] - 1s 3ms/step - loss: 0.3570 - accuracy: 0.8459 - val_loss: 0.3637 - val_accuracy: 0.8523\n",
      "Epoch 34/1000\n",
      "536/536 [==============================] - 1s 3ms/step - loss: 0.3568 - accuracy: 0.8481 - val_loss: 0.3634 - val_accuracy: 0.8535\n",
      "Epoch 35/1000\n",
      "536/536 [==============================] - 1s 3ms/step - loss: 0.3593 - accuracy: 0.8425 - val_loss: 0.3621 - val_accuracy: 0.8508\n",
      "Epoch 36/1000\n",
      "536/536 [==============================] - 1s 3ms/step - loss: 0.3570 - accuracy: 0.8425 - val_loss: 0.3682 - val_accuracy: 0.8489\n",
      "Epoch 37/1000\n",
      "536/536 [==============================] - 1s 3ms/step - loss: 0.3585 - accuracy: 0.8391 - val_loss: 0.3638 - val_accuracy: 0.8519\n",
      "Epoch 38/1000\n",
      "536/536 [==============================] - 1s 3ms/step - loss: 0.3577 - accuracy: 0.8433 - val_loss: 0.3636 - val_accuracy: 0.8538\n",
      "Epoch 39/1000\n",
      "536/536 [==============================] - 1s 3ms/step - loss: 0.3535 - accuracy: 0.8429 - val_loss: 0.3630 - val_accuracy: 0.8527\n",
      "Epoch 40/1000\n",
      "536/536 [==============================] - 1s 3ms/step - loss: 0.3583 - accuracy: 0.8466 - val_loss: 0.3626 - val_accuracy: 0.8508\n",
      "Epoch 41/1000\n",
      "536/536 [==============================] - 2s 3ms/step - loss: 0.3526 - accuracy: 0.8470 - val_loss: 0.3644 - val_accuracy: 0.8504\n",
      "Epoch 42/1000\n",
      "536/536 [==============================] - 2s 3ms/step - loss: 0.3564 - accuracy: 0.8436 - val_loss: 0.3649 - val_accuracy: 0.8474\n",
      "Epoch 43/1000\n",
      "536/536 [==============================] - 1s 3ms/step - loss: 0.3578 - accuracy: 0.8414 - val_loss: 0.3644 - val_accuracy: 0.8538\n",
      "Epoch 44/1000\n",
      "536/536 [==============================] - 1s 3ms/step - loss: 0.3571 - accuracy: 0.8444 - val_loss: 0.3642 - val_accuracy: 0.8497\n",
      "Epoch 45/1000\n",
      "536/536 [==============================] - 1s 3ms/step - loss: 0.3575 - accuracy: 0.8455 - val_loss: 0.3669 - val_accuracy: 0.8482\n",
      "Epoch 46/1000\n",
      "536/536 [==============================] - 1s 3ms/step - loss: 0.3538 - accuracy: 0.8438 - val_loss: 0.3646 - val_accuracy: 0.8482\n",
      "Epoch 47/1000\n",
      "536/536 [==============================] - 1s 3ms/step - loss: 0.3497 - accuracy: 0.8446 - val_loss: 0.3673 - val_accuracy: 0.8508\n",
      "Epoch 48/1000\n",
      "536/536 [==============================] - 1s 3ms/step - loss: 0.3522 - accuracy: 0.8462 - val_loss: 0.3642 - val_accuracy: 0.8523\n",
      "Epoch 49/1000\n",
      "536/536 [==============================] - 1s 3ms/step - loss: 0.3570 - accuracy: 0.8494 - val_loss: 0.3651 - val_accuracy: 0.8482\n",
      "Epoch 50/1000\n",
      "536/536 [==============================] - 1s 3ms/step - loss: 0.3535 - accuracy: 0.8457 - val_loss: 0.3648 - val_accuracy: 0.8519\n",
      "Epoch 50: early stopping\n"
     ]
    }
   ],
   "source": [
    "model_history =classifier.fit(X_train,y_train,validation_split=0.33,batch_size=10,epochs =1000,callbacks=early_stopping)"
   ]
  },
  {
   "cell_type": "markdown",
   "metadata": {},
   "source": [
    "Early stopped at epoch 50"
   ]
  },
  {
   "cell_type": "code",
   "execution_count": 43,
   "metadata": {},
   "outputs": [
    {
     "data": {
      "text/plain": [
       "dict_keys(['loss', 'accuracy', 'val_loss', 'val_accuracy'])"
      ]
     },
     "execution_count": 43,
     "metadata": {},
     "output_type": "execute_result"
    }
   ],
   "source": [
    "model_history.history.keys()"
   ]
  },
  {
   "cell_type": "markdown",
   "metadata": {},
   "source": [
    "Now we are going to plot the summary for the hostory for accuaracy"
   ]
  },
  {
   "cell_type": "code",
   "execution_count": 44,
   "metadata": {},
   "outputs": [
    {
     "data": {
      "image/png": "[encoded data removed]",
      "text/plain": [
       "<Figure size 640x480 with 1 Axes>"
      ]
     },
     "metadata": {},
     "output_type": "display_data"
    }
   ],
   "source": [
    "# summarize history for accuracy\n",
    "plt.plot(model_history.history['accuracy'])\n",
    "plt.plot(model_history.history['val_accuracy'])\n",
    "plt.title('model accuracy')\n",
    "plt.ylabel('accuracy')\n",
    "plt.xlabel('epoch')\n",
    "plt.legend(['train', 'test'], loc='upper left')\n",
    "plt.show()"
   ]
  },
  {
   "cell_type": "code",
   "execution_count": 45,
   "metadata": {},
   "outputs": [
    {
     "data": {
      "image/png": "[encoded data removed]",
      "text/plain": [
       "<Figure size 640x480 with 1 Axes>"
      ]
     },
     "metadata": {},
     "output_type": "display_data"
    }
   ],
   "source": [
    "# summarize history for loss\n",
    "plt.plot(model_history.history['loss'])\n",
    "plt.plot(model_history.history['val_loss'])\n",
    "plt.title('model loss')\n",
    "plt.ylabel('loss')\n",
    "plt.xlabel('epoch')\n",
    "plt.legend(['train', 'test'], loc='upper left')\n",
    "plt.show()"
   ]
  },
  {
   "cell_type": "code",
   "execution_count": 46,
   "metadata": {},
   "outputs": [
    {
     "name": "stdout",
     "output_type": "stream",
     "text": [
      "63/63 [==============================] - 0s 1ms/step\n"
     ]
    }
   ],
   "source": [
    "# Part 3 - Making the predictions and evaluating the model\n",
    "\n",
    "# Predicting the Test set results\n",
    "y_pred = classifier.predict(X_test)\n",
    "y_pred = (y_pred > 0.5)"
   ]
  },
  {
   "cell_type": "code",
   "execution_count": 47,
   "metadata": {},
   "outputs": [
    {
     "data": {
      "text/plain": [
       "array([[1528,   67],\n",
       "       [ 212,  193]], dtype=int64)"
      ]
     },
     "execution_count": 47,
     "metadata": {},
     "output_type": "execute_result"
    }
   ],
   "source": [
    "# Making the Confusion Matrix\n",
    "from sklearn.metrics import confusion_matrix\n",
    "cm = confusion_matrix(y_test, y_pred)\n",
    "cm"
   ]
  },
  {
   "cell_type": "code",
   "execution_count": 48,
   "metadata": {},
   "outputs": [],
   "source": [
    "# Calculate the Accuracy\n",
    "from sklearn.metrics import accuracy_score\n",
    "score=accuracy_score(y_pred,y_test)"
   ]
  },
  {
   "cell_type": "code",
   "execution_count": 49,
   "metadata": {},
   "outputs": [
    {
     "data": {
      "text/plain": [
       "0.8605"
      ]
     },
     "execution_count": 49,
     "metadata": {},
     "output_type": "execute_result"
    }
   ],
   "source": [
    "score"
   ]
  },
  {
   "cell_type": "code",
   "execution_count": 50,
   "metadata": {},
   "outputs": [
    {
     "data": {
      "text/plain": [
       "[array([[ 0.05976485, -0.15080763, -0.0295204 ,  0.27002022, -0.01130662,\n",
       "         -0.02488791,  0.41467598, -0.04441308,  0.02171771,  0.06119448,\n",
       "          0.25805467],\n",
       "        [-0.4338596 , -0.505495  ,  0.6697196 , -0.24934438, -0.6648082 ,\n",
       "          0.02309177,  0.10681108,  0.12705275,  0.20367353, -1.1841787 ,\n",
       "          0.54026663],\n",
       "        [ 0.3095923 , -0.1353536 ,  0.26661575, -0.06494106,  0.09742041,\n",
       "          0.06695012, -0.05072728,  0.13360739, -0.03162249, -0.06481994,\n",
       "         -0.2351408 ],\n",
       "        [-0.70453066, -0.05907622, -0.02957264, -0.19160637,  0.02912955,\n",
       "         -0.71166474, -0.32690072,  0.15973443,  0.09232717, -0.10147776,\n",
       "          0.28654274],\n",
       "        [-0.05305754, -0.02474291, -0.10370017, -0.24736688, -0.05909951,\n",
       "         -0.9013869 ,  0.34041774,  1.0970262 , -1.2424587 , -0.11700853,\n",
       "          0.5927887 ],\n",
       "        [-0.40323266, -0.3952927 ,  0.05667464,  0.81432194,  0.03830466,\n",
       "          0.01043865, -0.1706213 , -0.16775157, -0.15426038, -0.39349115,\n",
       "          0.07034674],\n",
       "        [ 0.0887573 ,  0.17261055,  0.8103368 , -0.03867032, -0.29677892,\n",
       "         -0.06512222,  0.15617196, -0.12094347, -0.30024862, -0.5496382 ,\n",
       "         -0.18123487],\n",
       "        [ 0.21455969, -0.12416352,  0.02714545,  0.376033  , -0.20083103,\n",
       "          0.256766  ,  0.31071287,  0.14637521, -0.03918239,  0.25512204,\n",
       "          0.02498729],\n",
       "        [ 0.03932537,  0.02815611, -0.00310459,  0.38624132, -0.52169013,\n",
       "          0.47133717, -0.21392265, -0.04001851,  0.0626256 ,  0.12316518,\n",
       "         -0.05071347],\n",
       "        [-0.21961494, -0.41007876,  0.14369947, -0.48732057,  0.1141916 ,\n",
       "         -0.05053984,  0.26377553,  0.14809872, -0.08256346, -0.72590196,\n",
       "          0.05752838],\n",
       "        [ 0.6060977 ,  0.07982789,  0.15267631,  0.11238303,  0.1314534 ,\n",
       "          0.03168323,  0.13922562,  0.01732459, -0.01989998, -0.13077515,\n",
       "          0.09214252]], dtype=float32),\n",
       " array([-0.11546639,  0.18204984, -0.5978502 ,  0.19790648,  0.60579056,\n",
       "        -0.07701423, -0.09217686, -0.75679266,  0.14251922, -0.03228752,\n",
       "        -0.0618679 ], dtype=float32),\n",
       " array([[ 0.33131537, -0.26527572,  0.5205666 , -0.54913276,  0.46311092,\n",
       "          0.30323687,  0.01963549],\n",
       "        [ 0.41799378, -0.53851664, -0.33556664, -0.13289362,  0.25510123,\n",
       "          0.36908704,  0.27919105],\n",
       "        [ 0.6923951 , -0.27329537, -0.49579254, -0.8848165 ,  0.38835126,\n",
       "          0.2127032 , -0.02131947],\n",
       "        [ 0.20037316, -0.27847296, -0.33143485, -0.47339967,  0.39081648,\n",
       "          0.12833364,  0.43225312],\n",
       "        [ 0.35710683, -0.10954545, -0.60401946, -0.38724864,  0.3002609 ,\n",
       "          0.24053471,  0.3694068 ],\n",
       "        [-0.64416414, -0.3823415 ,  0.5346431 ,  0.53045535, -0.95152926,\n",
       "         -0.6997542 , -0.33330402],\n",
       "        [ 0.19612344, -0.01959547, -0.3293776 , -0.19588344,  0.5750381 ,\n",
       "          0.3355888 ,  0.4423699 ],\n",
       "        [-0.6365341 , -0.42987975,  0.7630722 ,  0.7243223 , -0.61869603,\n",
       "         -0.6444514 , -0.24535507],\n",
       "        [-0.40663016, -0.2841715 ,  0.5031759 ,  0.44901016, -0.6003779 ,\n",
       "         -0.2847159 , -0.4260706 ],\n",
       "        [ 0.33679244,  0.16300355, -0.5938218 , -0.42747506, -0.4831381 ,\n",
       "          0.08072022, -0.311182  ],\n",
       "        [-0.04995034, -0.15143274,  0.15974967,  0.5576417 , -0.388413  ,\n",
       "         -0.19240187, -0.65590847]], dtype=float32),\n",
       " array([ 0.3667811 , -0.11465196,  0.09590552, -0.37131593,  0.06483229,\n",
       "         0.46599108,  0.31605768], dtype=float32),\n",
       " array([[-0.6375874 ,  0.33324274,  0.33835676, -0.14484017,  0.51047283,\n",
       "         -0.47472605],\n",
       "        [-0.10418332, -0.5318967 , -0.08592667,  0.06162693, -0.42154968,\n",
       "          0.36748767],\n",
       "        [ 0.7087986 , -0.9421991 , -0.41280955, -0.36024264, -0.25630012,\n",
       "         -1.1570916 ],\n",
       "        [ 1.4574832 , -0.83824056, -0.8776726 , -0.6738299 , -0.61586726,\n",
       "         -0.28068885],\n",
       "        [-0.8349613 ,  0.721799  ,  0.9746844 ,  0.06280754,  1.0609515 ,\n",
       "         -0.03177974],\n",
       "        [-0.7499876 , -0.07301664,  0.1310838 , -0.144895  ,  0.3700315 ,\n",
       "          0.89474994],\n",
       "        [-0.7982005 ,  0.32639197,  0.40949553, -0.6394069 ,  0.759838  ,\n",
       "          0.1447987 ]], dtype=float32),\n",
       " array([ 0.05874686,  0.18836309,  0.17951703, -0.3128439 ,  0.20998791,\n",
       "         0.01862976], dtype=float32),\n",
       " array([[ 0.83381516],\n",
       "        [-0.6835751 ],\n",
       "        [-0.5553066 ],\n",
       "        [ 0.6476888 ],\n",
       "        [-0.34729174],\n",
       "        [-0.7855943 ]], dtype=float32),\n",
       " array([-0.3929427], dtype=float32)]"
      ]
     },
     "execution_count": 50,
     "metadata": {},
     "output_type": "execute_result"
    }
   ],
   "source": [
    "classifier.get_weights()"
   ]
  },
  {
   "cell_type": "code",
   "execution_count": 40,
   "metadata": {},
   "outputs": [],
   "source": [
    "import pickle"
   ]
  },
  {
   "cell_type": "code",
   "execution_count": 41,
   "metadata": {},
   "outputs": [],
   "source": [
    "model_weights =  classifier.get_weights()"
   ]
  },
  {
   "cell_type": "code",
   "execution_count": 42,
   "metadata": {},
   "outputs": [],
   "source": [
    "# Save the weights as a pickle file\n",
    "with open('model1_weights.pkl', 'wb') as f:\n",
    "    pickle.dump(model_weights, f)"
   ]
  },
  {
   "cell_type": "code",
   "execution_count": null,
   "metadata": {},
   "outputs": [],
   "source": []
  },
  {
   "cell_type": "code",
   "execution_count": null,
   "metadata": {},
   "outputs": [],
   "source": []
  }
 ],
 "metadata": {
  "kernelspec": {
   "display_name": "base",
   "language": "python",
   "name": "python3"
  },
  "language_info": {
   "codemirror_mode": {
    "name": "ipython",
    "version": 3
   },
   "file_extension": ".py",
   "mimetype": "text/x-python",
   "name": "python",
   "nbconvert_exporter": "python",
   "pygments_lexer": "ipython3",
   "version": "3.11.3"
  }
 },
 "nbformat": 4,
 "nbformat_minor": 2
}
