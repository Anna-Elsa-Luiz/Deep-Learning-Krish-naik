{
 "cells": [
  {
   "cell_type": "code",
   "execution_count": 1,
   "metadata": {},
   "outputs": [
    {
     "name": "stdout",
     "output_type": "stream",
     "text": [
      "WARNING:tensorflow:From C:\\Users\\hp\\AppData\\Roaming\\Python\\Python311\\site-packages\\keras\\src\\losses.py:2976: The name tf.losses.sparse_softmax_cross_entropy is deprecated. Please use tf.compat.v1.losses.sparse_softmax_cross_entropy instead.\n",
      "\n"
     ]
    }
   ],
   "source": [
    "import tensorflow as tf  "
   ]
  },
  {
   "cell_type": "code",
   "execution_count": 2,
   "metadata": {},
   "outputs": [
    {
     "data": {
      "text/plain": [
       "'2.15.0'"
      ]
     },
     "execution_count": 2,
     "metadata": {},
     "output_type": "execute_result"
    }
   ],
   "source": [
    "tf.__version__   "
   ]
  },
  {
   "cell_type": "code",
   "execution_count": 7,
   "metadata": {},
   "outputs": [
    {
     "name": "stdout",
     "output_type": "stream",
     "text": [
      "b'Hello world'\n"
     ]
    }
   ],
   "source": [
    "#create tensorflow object called tensor\n",
    "hello_constant = tf.constant(\"Hello world\")\n",
    "\n",
    "# Create a session to run the TensorFlow operations\n",
    "##with tf.Session() as sess:\n",
    "    # Run the tf.constant operation in the session\n",
    " #   output = sess.run(hello_constant)\n",
    " #   print(output)\\\n",
    "    \n",
    "output = hello_constant.numpy()  # Run the operation and convert the result to a numpy array\n",
    "print(output)\n"
   ]
  },
  {
   "cell_type": "markdown",
   "metadata": {},
   "source": [
    "TensorFlow is an open source software library for high performance numerical computation. Its flexible architecture allows easy deployment of computation across a variety of platforms (CPUs, GPUs, TPUs), and from desktops to clusters of servers to mobile and edge devices. Originally developed by researchers and engineers from the Google Brain team within Google’s AI organization, it comes with strong support for machine learning and deep learning and the flexible numerical computation core is used across many other scientific domains."
   ]
  },
  {
   "cell_type": "markdown",
   "metadata": {},
   "source": [
    "- Tensorflow is a framework which allows you to create neural network and do all sort of precessing.\n",
    "- Tensors are almost equivalent to ndarray \n",
    "- Its a vector using which we can perform calculations regarding the neural  network\n"
   ]
  },
  {
   "cell_type": "markdown",
   "metadata": {},
   "source": [
    "Tensor \n",
    "\n",
    "In tensorflow , datav isnot stored as an integer , floats , strings . These values are encapsulated in an object caleed tensor . in the case of hello_constant = tf.constant(\"Hello World\") , hello_constant is an 0-dimensional string tensor , but tensor come in a variety of sizes as shown below. "
   ]
  },
  {
   "cell_type": "code",
   "execution_count": null,
   "metadata": {},
   "outputs": [],
   "source": [
    "# A is 0 dim int32 tensor \n",
    "A= t.constant(13)\n",
    "\n",
    "# A is 1 dim int32 tensor \n",
    "B= tf.constant([112,152,789])\n",
    "\n",
    "# A is 2 dim int32 tensor \n",
    "C= tf.constant([12,15,26],[23,56,41])"
   ]
  }
 ],
 "metadata": {
  "kernelspec": {
   "display_name": "base",
   "language": "python",
   "name": "python3"
  },
  "language_info": {
   "codemirror_mode": {
    "name": "ipython",
    "version": 3
   },
   "file_extension": ".py",
   "mimetype": "text/x-python",
   "name": "python",
   "nbconvert_exporter": "python",
   "pygments_lexer": "ipython3",
   "version": "3.11.3"
  }
 },
 "nbformat": 4,
 "nbformat_minor": 2
}
